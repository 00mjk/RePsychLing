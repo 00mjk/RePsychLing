{
 "cells": [
  {
   "cell_type": "markdown",
   "metadata": {},
   "source": [
    "# RePsychLing Barr and Seyfeddinipur (2010)\n",
    "\n",
    "## Data from Barr and Seyfeddinipur (2010)\n",
    "\n",
    "Some of the data from Barr and Seyfeddinipur (2010) are available as the data frame `bs10` in the `RePsychLing` package for [R](http://www.r-project.org)"
   ]
  },
  {
   "cell_type": "code",
   "execution_count": 1,
   "metadata": {
    "collapsed": false
   },
   "outputs": [
    {
     "data": {
      "text/html": [
       "<table class=\"data-frame\"><tr><th></th><th>SubjID</th><th>ItemID</th><th>Spkr</th><th>Filler</th><th>ms</th><th>d</th><th>d2</th><th>Spkr2</th><th>dif</th><th>SF</th><th>F</th><th>S</th></tr><tr><th>1</th><td>1</td><td>12</td><td>SS</td><td>NS</td><td>-3049.0</td><td>0.0</td><td>0.0</td><td>Same</td><td>0.0</td><td>1.0</td><td>-1.0</td><td>-1.0</td></tr><tr><th>2</th><td>1</td><td>3</td><td>DS</td><td>FP</td><td>-3048.0</td><td>-0.01</td><td>-0.01</td><td>Different</td><td>0.0</td><td>1.0</td><td>1.0</td><td>1.0</td></tr><tr><th>3</th><td>1</td><td>6</td><td>DS</td><td>NS</td><td>-3048.0</td><td>0.0</td><td>0.0</td><td>Different</td><td>0.0</td><td>-1.0</td><td>-1.0</td><td>1.0</td></tr><tr><th>4</th><td>1</td><td>9</td><td>SS</td><td>NS</td><td>-3048.0</td><td>0.0</td><td>0.0</td><td>Same</td><td>0.0</td><td>1.0</td><td>-1.0</td><td>-1.0</td></tr><tr><th>5</th><td>1</td><td>11</td><td>SS</td><td>FP</td><td>-3048.0</td><td>0.0</td><td>0.0</td><td>Same</td><td>0.0</td><td>-1.0</td><td>1.0</td><td>-1.0</td></tr><tr><th>6</th><td>1</td><td>10</td><td>SS</td><td>NS</td><td>-3048.0</td><td>0.0</td><td>0.55</td><td>Same</td><td>0.55</td><td>1.0</td><td>-1.0</td><td>-1.0</td></tr><tr><th>7</th><td>1</td><td>5</td><td>SS</td><td>FP</td><td>-3048.0</td><td>0.0</td><td>1.0</td><td>Same</td><td>1.0</td><td>-1.0</td><td>1.0</td><td>-1.0</td></tr><tr><th>8</th><td>1</td><td>7</td><td>DS</td><td>NS</td><td>-3049.0</td><td>0.0</td><td>0.0</td><td>Different</td><td>0.0</td><td>-1.0</td><td>-1.0</td><td>1.0</td></tr><tr><th>9</th><td>1</td><td>2</td><td>DS</td><td>FP</td><td>-3048.0</td><td>0.67</td><td>-0.13</td><td>Different</td><td>-0.8</td><td>1.0</td><td>1.0</td><td>1.0</td></tr><tr><th>10</th><td>1</td><td>1</td><td>DS</td><td>FP</td><td>-3048.0</td><td>0.0</td><td>0.0</td><td>Different</td><td>0.0</td><td>1.0</td><td>1.0</td><td>1.0</td></tr><tr><th>11</th><td>1</td><td>8</td><td>DS</td><td>NS</td><td>-3048.0</td><td>0.0</td><td>0.0</td><td>Different</td><td>0.0</td><td>-1.0</td><td>-1.0</td><td>1.0</td></tr><tr><th>12</th><td>1</td><td>4</td><td>SS</td><td>FP</td><td>-3049.0</td><td>-0.14</td><td>1.0</td><td>Same</td><td>1.1400000000000001</td><td>-1.0</td><td>1.0</td><td>-1.0</td></tr><tr><th>13</th><td>2</td><td>12</td><td>DS</td><td>NS</td><td>-3048.0</td><td>0.0</td><td>0.0</td><td>Different</td><td>0.0</td><td>-1.0</td><td>-1.0</td><td>1.0</td></tr><tr><th>14</th><td>2</td><td>3</td><td>SS</td><td>FP</td><td>-3048.0</td><td>0.0</td><td>0.0</td><td>Same</td><td>0.0</td><td>-1.0</td><td>1.0</td><td>-1.0</td></tr><tr><th>15</th><td>2</td><td>9</td><td>DS</td><td>NS</td><td>-3049.0</td><td>0.0</td><td>0.0</td><td>Different</td><td>0.0</td><td>-1.0</td><td>-1.0</td><td>1.0</td></tr><tr><th>16</th><td>2</td><td>11</td><td>DS</td><td>FP</td><td>-3048.0</td><td>0.0</td><td>0.0</td><td>Different</td><td>0.0</td><td>1.0</td><td>1.0</td><td>1.0</td></tr><tr><th>17</th><td>2</td><td>6</td><td>SS</td><td>NS</td><td>-3048.0</td><td>1.0</td><td>1.0</td><td>Same</td><td>0.0</td><td>1.0</td><td>-1.0</td><td>-1.0</td></tr><tr><th>18</th><td>2</td><td>2</td><td>SS</td><td>FP</td><td>-3048.0</td><td>0.0</td><td>0.0</td><td>Same</td><td>0.0</td><td>-1.0</td><td>1.0</td><td>-1.0</td></tr><tr><th>19</th><td>2</td><td>8</td><td>SS</td><td>NS</td><td>-3048.0</td><td>0.29</td><td>-0.1</td><td>Same</td><td>-0.39</td><td>1.0</td><td>-1.0</td><td>-1.0</td></tr><tr><th>20</th><td>2</td><td>5</td><td>DS</td><td>FP</td><td>-3048.0</td><td>0.0</td><td>-0.01</td><td>Different</td><td>-0.01</td><td>1.0</td><td>1.0</td><td>1.0</td></tr><tr><th>21</th><td>2</td><td>4</td><td>DS</td><td>FP</td><td>-3049.0</td><td>0.04</td><td>0.04</td><td>Different</td><td>0.0</td><td>1.0</td><td>1.0</td><td>1.0</td></tr><tr><th>22</th><td>2</td><td>7</td><td>SS</td><td>NS</td><td>-3048.0</td><td>0.0</td><td>0.0</td><td>Same</td><td>0.0</td><td>1.0</td><td>-1.0</td><td>-1.0</td></tr><tr><th>23</th><td>2</td><td>1</td><td>SS</td><td>FP</td><td>-3048.0</td><td>0.0</td><td>1.0</td><td>Same</td><td>1.0</td><td>-1.0</td><td>1.0</td><td>-1.0</td></tr><tr><th>24</th><td>2</td><td>10</td><td>DS</td><td>NS</td><td>-3048.0</td><td>0.01</td><td>0.06</td><td>Different</td><td>0.049999999999999996</td><td>-1.0</td><td>-1.0</td><td>1.0</td></tr><tr><th>25</th><td>3</td><td>12</td><td>SS</td><td>FP</td><td>-3048.0</td><td>0.0</td><td>0.0</td><td>Same</td><td>0.0</td><td>-1.0</td><td>1.0</td><td>-1.0</td></tr><tr><th>26</th><td>3</td><td>7</td><td>DS</td><td>FP</td><td>-3049.0</td><td>0.0</td><td>0.0</td><td>Different</td><td>0.0</td><td>1.0</td><td>1.0</td><td>1.0</td></tr><tr><th>27</th><td>3</td><td>1</td><td>DS</td><td>NS</td><td>-3049.0</td><td>0.0</td><td>0.0</td><td>Different</td><td>0.0</td><td>-1.0</td><td>-1.0</td><td>1.0</td></tr><tr><th>28</th><td>3</td><td>6</td><td>DS</td><td>FP</td><td>-3048.0</td><td>0.0</td><td>0.15</td><td>Different</td><td>0.15</td><td>1.0</td><td>1.0</td><td>1.0</td></tr><tr><th>29</th><td>3</td><td>2</td><td>DS</td><td>NS</td><td>-3049.0</td><td>-0.12</td><td>-0.12</td><td>Different</td><td>0.0</td><td>-1.0</td><td>-1.0</td><td>1.0</td></tr><tr><th>30</th><td>3</td><td>3</td><td>DS</td><td>NS</td><td>-3048.0</td><td>0.0</td><td>0.0</td><td>Different</td><td>0.0</td><td>-1.0</td><td>-1.0</td><td>1.0</td></tr><tr><th>&vellip;</th><td>&vellip;</td><td>&vellip;</td><td>&vellip;</td><td>&vellip;</td><td>&vellip;</td><td>&vellip;</td><td>&vellip;</td><td>&vellip;</td><td>&vellip;</td><td>&vellip;</td><td>&vellip;</td><td>&vellip;</td></tr></table>"
      ],
      "text/plain": [
       "1104x12 DataFrame\n",
       "| Row  | SubjID | ItemID | Spkr | Filler | ms      | d     | d2    |\n",
       "|------|--------|--------|------|--------|---------|-------|-------|\n",
       "| 1    | \"1\"    | \"12\"   | \"SS\" | \"NS\"   | -3049.0 | 0.0   | 0.0   |\n",
       "| 2    | \"1\"    | \"3\"    | \"DS\" | \"FP\"   | -3048.0 | -0.01 | -0.01 |\n",
       "| 3    | \"1\"    | \"6\"    | \"DS\" | \"NS\"   | -3048.0 | 0.0   | 0.0   |\n",
       "| 4    | \"1\"    | \"9\"    | \"SS\" | \"NS\"   | -3048.0 | 0.0   | 0.0   |\n",
       "| 5    | \"1\"    | \"11\"   | \"SS\" | \"FP\"   | -3048.0 | 0.0   | 0.0   |\n",
       "| 6    | \"1\"    | \"10\"   | \"SS\" | \"NS\"   | -3048.0 | 0.0   | 0.55  |\n",
       "| 7    | \"1\"    | \"5\"    | \"SS\" | \"FP\"   | -3048.0 | 0.0   | 1.0   |\n",
       "| 8    | \"1\"    | \"7\"    | \"DS\" | \"NS\"   | -3049.0 | 0.0   | 0.0   |\n",
       "| 9    | \"1\"    | \"2\"    | \"DS\" | \"FP\"   | -3048.0 | 0.67  | -0.13 |\n",
       "| 10   | \"1\"    | \"1\"    | \"DS\" | \"FP\"   | -3048.0 | 0.0   | 0.0   |\n",
       "| 11   | \"1\"    | \"8\"    | \"DS\" | \"NS\"   | -3048.0 | 0.0   | 0.0   |\n",
       "⋮\n",
       "| 1093 | \"92\"   | \"8\"    | \"SS\" | \"FP\"   | -3048.0 | 0.24  | 0.85  |\n",
       "| 1094 | \"92\"   | \"7\"    | \"SS\" | \"FP\"   | -3049.0 | -1.0  | 0.99  |\n",
       "| 1095 | \"92\"   | \"11\"   | \"DS\" | \"NS\"   | -3048.0 | 1.0   | 1.0   |\n",
       "| 1096 | \"92\"   | \"4\"    | \"DS\" | \"NS\"   | -3048.0 | -1.0  | -1.0  |\n",
       "| 1097 | \"92\"   | \"3\"    | \"SS\" | \"NS\"   | -3048.0 | 0.03  | 1.0   |\n",
       "| 1098 | \"92\"   | \"6\"    | \"SS\" | \"FP\"   | -3048.0 | -1.0  | 1.0   |\n",
       "| 1099 | \"92\"   | \"5\"    | \"DS\" | \"NS\"   | -3049.0 | 0.05  | 1.0   |\n",
       "| 1100 | \"92\"   | \"9\"    | \"DS\" | \"FP\"   | -3049.0 | -1.0  | -1.0  |\n",
       "| 1101 | \"92\"   | \"10\"   | \"DS\" | \"FP\"   | -3049.0 | -1.0  | -1.0  |\n",
       "| 1102 | \"92\"   | \"1\"    | \"SS\" | \"NS\"   | -3048.0 | -1.0  | -1.0  |\n",
       "| 1103 | \"92\"   | \"12\"   | \"DS\" | \"FP\"   | -3048.0 | -1.0  | -1.0  |\n",
       "| 1104 | \"92\"   | \"2\"    | \"SS\" | \"NS\"   | -3048.0 | -1.0  | -1.0  |\n",
       "\n",
       "| Row  | Spkr2       | dif  | SF   | F    | S    |\n",
       "|------|-------------|------|------|------|------|\n",
       "| 1    | \"Same\"      | 0.0  | 1.0  | -1.0 | -1.0 |\n",
       "| 2    | \"Different\" | 0.0  | 1.0  | 1.0  | 1.0  |\n",
       "| 3    | \"Different\" | 0.0  | -1.0 | -1.0 | 1.0  |\n",
       "| 4    | \"Same\"      | 0.0  | 1.0  | -1.0 | -1.0 |\n",
       "| 5    | \"Same\"      | 0.0  | -1.0 | 1.0  | -1.0 |\n",
       "| 6    | \"Same\"      | 0.55 | 1.0  | -1.0 | -1.0 |\n",
       "| 7    | \"Same\"      | 1.0  | -1.0 | 1.0  | -1.0 |\n",
       "| 8    | \"Different\" | 0.0  | -1.0 | -1.0 | 1.0  |\n",
       "| 9    | \"Different\" | -0.8 | 1.0  | 1.0  | 1.0  |\n",
       "| 10   | \"Different\" | 0.0  | 1.0  | 1.0  | 1.0  |\n",
       "| 11   | \"Different\" | 0.0  | -1.0 | -1.0 | 1.0  |\n",
       "⋮\n",
       "| 1093 | \"Same\"      | 0.61 | -1.0 | 1.0  | -1.0 |\n",
       "| 1094 | \"Same\"      | 1.99 | -1.0 | 1.0  | -1.0 |\n",
       "| 1095 | \"Different\" | 0.0  | -1.0 | -1.0 | 1.0  |\n",
       "| 1096 | \"Different\" | 0.0  | -1.0 | -1.0 | 1.0  |\n",
       "| 1097 | \"Same\"      | 0.97 | 1.0  | -1.0 | -1.0 |\n",
       "| 1098 | \"Same\"      | 2.0  | -1.0 | 1.0  | -1.0 |\n",
       "| 1099 | \"Different\" | 0.95 | -1.0 | -1.0 | 1.0  |\n",
       "| 1100 | \"Different\" | 0.0  | 1.0  | 1.0  | 1.0  |\n",
       "| 1101 | \"Different\" | 0.0  | 1.0  | 1.0  | 1.0  |\n",
       "| 1102 | \"Same\"      | 0.0  | 1.0  | -1.0 | -1.0 |\n",
       "| 1103 | \"Different\" | 0.0  | 1.0  | 1.0  | 1.0  |\n",
       "| 1104 | \"Same\"      | 0.0  | 1.0  | -1.0 | -1.0 |"
      ]
     },
     "execution_count": 1,
     "metadata": {},
     "output_type": "execute_result"
    }
   ],
   "source": [
    "# using DataFrames,RCall,MixedModels\n",
    "# bs10 = DataFrame(\"RePsychLing::bs10\")\n",
    "using DataFrames,MixedModels\n",
    "bs10 = MixedModels.rdata(\"bs10\")"
   ]
  },
  {
   "cell_type": "markdown",
   "metadata": {},
   "source": [
    "As with other data frames in this package, the subject and item factors are called `subj` and `item`.  The response being modelled, `dif`, variable is the difference in two response times.\n",
    "\n",
    "The two experimental factors `S` and `F`, both at two levels, are represented in the -1/+1 encoding, as is their interaction, `SF`.  The `S` factor is the speaker condition with levels -1 for the same speaker in both trials and +1 for different speakers.  The `F` factor is the filler condition with levels -1 for `NS` and +1 for `FP`.\n",
    "\n",
    "### Maximal linear mixed model (_maxLMM_)\n",
    "\n",
    "The maximal model has a full factorial design `1+S+F+SF` for the fixed-effects and for potentially correlated vector-valued random effects for the subject and the item."
   ]
  },
  {
   "cell_type": "code",
   "execution_count": 2,
   "metadata": {
    "collapsed": false
   },
   "outputs": [
    {
     "data": {
      "text/plain": [
       "Linear mixed model fit by maximum likelihood\n",
       "Formula: dif ~ 1 + S + F + SF + ((1 + S + F + SF) | SubjID) + ((1 + S + F + SF) | ItemID)\n",
       "\n",
       " logLik: -515.477648, deviance: 1030.955295\n",
       "\n",
       " Variance components:\n",
       "                Variance    Std.Dev.  Corr.\n",
       " SubjID         0.013393    0.115730\n",
       "                0.011216    0.105907  -0.56\n",
       "                0.003373    0.058075   0.99  0.99\n",
       "                0.005192    0.072053  -0.13 -0.13 -0.13\n",
       " ItemID         0.000305    0.017459\n",
       "                0.000079    0.008904  -1.00\n",
       "                0.000136    0.011647   1.00  1.00\n",
       "                0.000083    0.009125  -1.00 -1.00 -1.00\n",
       " Residual       0.127779    0.357462\n",
       " Number of obs: 1104; levels of grouping factors: 92, 12\n",
       "\n",
       "  Fixed-effects parameters:\n",
       "               Estimate Std.Error  z value\n",
       "(Intercept)    0.039221 0.0169329  2.31626\n",
       "S            -0.0174094 0.0156289 -1.11392\n",
       "F             0.0174819 0.0127947  1.36633\n",
       "SF           -0.0322645 0.0133832 -2.41082\n"
      ]
     },
     "execution_count": 2,
     "metadata": {},
     "output_type": "execute_result"
    }
   ],
   "source": [
    "m0 = fit(lmm(dif ~ 1+S+F+SF + (1+S+F+SF|SubjID) + (1+S+F+SF|ItemID), bs10))"
   ]
  },
  {
   "cell_type": "code",
   "execution_count": 4,
   "metadata": {
    "collapsed": false
   },
   "outputs": [
    {
     "name": "stdout",
     "output_type": "stream",
     "text": [
      "elapsed time: 0.793719975 seconds (243262944 bytes allocated, 18.93% gc time)\n"
     ]
    }
   ],
   "source": [
    "gc(); @time fit(lmm(dif ~ 1+S+F+SF + (1+S+F+SF|SubjID) + (1+S+F+SF|ItemID), bs10));"
   ]
  },
  {
   "cell_type": "markdown",
   "metadata": {},
   "source": [
    "It look as if additional efforts to conserve memory will be helpful.\n",
    "\n",
    "Memory considerations aside, the fit of _maxLMM_ is suspect because of the high correlations of the vector-valued random effects for `item` and the repeated values in the random effects for `subj`.\n",
    "\n",
    "Many of the $\\theta$ parameters are close to zero in magnitude.  The two $\\lambda$ matrices, which are lower Cholesky factors formed from sections of the $\\theta$ parameters (in column-major ordering) are singular."
   ]
  },
  {
   "cell_type": "code",
   "execution_count": 5,
   "metadata": {
    "collapsed": false
   },
   "outputs": [
    {
     "name": "stdout",
     "output_type": "stream",
     "text": [
      "[0.3237548077337227,-0.1663421908266492,0.16112085758748357,-0.026568073084886252,0.24517014284710592,-0.02085235373127605,0.19980923164721606,1.282938788009876e-6,-1.8667508743497564e-6,0.0,0.04884104176916634,-0.02490891281779611,0.03258144488208834,-0.0255267086246206,9.798001877943274e-7,-7.885771115835552e-8,-3.6392924495676325e-8,0.0,5.093674097430509e-10,0.0]"
     ]
    }
   ],
   "source": [
    "show(MixedModels.θ(m0))"
   ]
  },
  {
   "cell_type": "code",
   "execution_count": 6,
   "metadata": {
    "collapsed": false
   },
   "outputs": [
    {
     "data": {
      "text/plain": [
       "2-element Array{Any,1}:\n",
       " PDLCholF(Cholesky{Float64} with factor:\n",
       "4x4 Triangular{Float64,Array{Float64,2},:L,false}:\n",
       "  0.323755    0.0         0.0         0.0\n",
       " -0.166342    0.24517     0.0         0.0\n",
       "  0.161121   -0.0208524   1.28294e-6  0.0\n",
       " -0.0265681   0.199809   -1.86675e-6  0.0)    \n",
       " PDLCholF(Cholesky{Float64} with factor:\n",
       "4x4 Triangular{Float64,Array{Float64,2},:L,false}:\n",
       "  0.048841    0.0         0.0          0.0\n",
       " -0.0249089   9.798e-7    0.0          0.0\n",
       "  0.0325814  -7.88577e-8  0.0          0.0\n",
       " -0.0255267  -3.63929e-8  5.09367e-10  0.0)"
      ]
     },
     "execution_count": 6,
     "metadata": {},
     "output_type": "execute_result"
    }
   ],
   "source": [
    "m0.λ"
   ]
  },
  {
   "cell_type": "markdown",
   "metadata": {},
   "source": [
    "We consider elements of $\\theta$ of magnitude less than, say, `5.e-6`, to be negligible.  Notice that setting these very small values to zero actually results in a small improvement in the deviance (smaller is better)."
   ]
  },
  {
   "cell_type": "code",
   "execution_count": 7,
   "metadata": {
    "collapsed": false
   },
   "outputs": [
    {
     "data": {
      "text/plain": [
       "20-element Array{Float64,1}:\n",
       "  0.323755 \n",
       " -0.166342 \n",
       "  0.161121 \n",
       " -0.0265681\n",
       "  0.24517  \n",
       " -0.0208524\n",
       "  0.199809 \n",
       "  0.0      \n",
       "  0.0      \n",
       "  0.0      \n",
       "  0.048841 \n",
       " -0.0249089\n",
       "  0.0325814\n",
       " -0.0255267\n",
       "  0.0      \n",
       "  0.0      \n",
       "  0.0      \n",
       "  0.0      \n",
       "  0.0      \n",
       "  0.0      "
      ]
     },
     "execution_count": 7,
     "metadata": {},
     "output_type": "execute_result"
    }
   ],
   "source": [
    "th = Float64[abs(x) < 5.e-6 ? 0. : x for x in MixedModels.θ(m0)]"
   ]
  },
  {
   "cell_type": "code",
   "execution_count": 8,
   "metadata": {
    "collapsed": false
   },
   "outputs": [
    {
     "data": {
      "text/plain": [
       "1030.9552950545328"
      ]
     },
     "execution_count": 8,
     "metadata": {},
     "output_type": "execute_result"
    }
   ],
   "source": [
    "deviance(m0)"
   ]
  },
  {
   "cell_type": "code",
   "execution_count": 9,
   "metadata": {
    "collapsed": false
   },
   "outputs": [
    {
     "data": {
      "text/plain": [
       "1030.9552950535974"
      ]
     },
     "execution_count": 9,
     "metadata": {},
     "output_type": "execute_result"
    }
   ],
   "source": [
    "MixedModels.objective!(m0,th)"
   ]
  },
  {
   "cell_type": "markdown",
   "metadata": {},
   "source": [
    "We save the value of `th` in the `R` package, so that the `lmer` fit can use it instead of recreating the value. (The optimization is much slower with `lmer`.)"
   ]
  },
  {
   "cell_type": "code",
   "execution_count": 11,
   "metadata": {
    "collapsed": false
   },
   "outputs": [],
   "source": [
    "#globalEnv[:bsm0th] = th;\n",
    "#reval(\"save(bsm0th,file='/tmp/bsm0th.rda',compress='xz')\")"
   ]
  },
  {
   "cell_type": "markdown",
   "metadata": {},
   "source": [
    "Alternatively, a `.csv` file will do."
   ]
  },
  {
   "cell_type": "code",
   "execution_count": 12,
   "metadata": {
    "collapsed": false
   },
   "outputs": [],
   "source": [
    "open(\"bsm0th.csv\",\"w\") do io writecsv(io,th) end"
   ]
  },
  {
   "cell_type": "markdown",
   "metadata": {},
   "source": [
    "## Zero-correlation-parameter mixed model (_zcpLMM_)\n",
    "\n",
    "A zero-correlation-parameter model fits independent random effects for the intercept, the experimental factors and their interaction for each of the `subj` and `item` grouping factors."
   ]
  },
  {
   "cell_type": "code",
   "execution_count": 10,
   "metadata": {
    "collapsed": false
   },
   "outputs": [
    {
     "data": {
      "text/plain": [
       "Linear mixed model fit by maximum likelihood\n",
       "Formula: dif ~ 1 + S + F + SF + (1 | SubjID) + ((0 + S) | SubjID) + ((0 + F) | SubjID) + ((0 + SF) | SubjID) + (1 | ItemID) + ((0 + S) | ItemID) + ((0 + F) | ItemID) + ((0 + SF) | ItemID)\n",
       "\n",
       " logLik: -540.040342, deviance: 1080.080684\n",
       "\n",
       " Variance components:\n",
       "                Variance    Std.Dev.  Corr.\n",
       " SubjID         0.011801    0.108631\n",
       "                0.010078    0.100391   0.00\n",
       "                0.000000    0.000000   0.00  0.00\n",
       "                0.003577    0.059809   0.00  0.00  0.00\n",
       " ItemID         0.000000    0.000000\n",
       "                0.000000    0.000000   0.00\n",
       "                0.000000    0.000000   0.00  0.00\n",
       "                0.000000    0.000000   0.00  0.00  0.00\n",
       " Residual       0.136033    0.368827\n",
       " Number of obs: 1104; levels of grouping factors: 92, 12\n",
       "\n",
       "  Fixed-effects parameters:\n",
       "               Estimate Std.Error  z value\n",
       "(Intercept)    0.039221 0.0158584  2.47321\n",
       "S            -0.0174094 0.0152567  -1.1411\n",
       "F             0.0174819 0.0111004  1.57489\n",
       "SF           -0.0322645 0.0127319 -2.53415\n"
      ]
     },
     "execution_count": 10,
     "metadata": {},
     "output_type": "execute_result"
    }
   ],
   "source": [
    "m1 = fit(lmm(dif ~ 1+S+F+SF + (1|SubjID)+(0+S|SubjID)+(0+F|SubjID)+(0+SF|SubjID)\n",
    "+ (1|ItemID)+(0+S|ItemID)+(0+F|ItemID)+(0+SF|ItemID), bs10))"
   ]
  },
  {
   "cell_type": "code",
   "execution_count": 13,
   "metadata": {
    "collapsed": false
   },
   "outputs": [
    {
     "name": "stdout",
     "output_type": "stream",
     "text": [
      "[0.2945318916149058,0.27219104174740977,0.0,0.16216066533636336,0.0,0.0,0.0,0.0]"
     ]
    }
   ],
   "source": [
    "show(MixedModels.θ(m1))"
   ]
  },
  {
   "cell_type": "markdown",
   "metadata": {},
   "source": [
    "A likelihood-ratio test of the two model fits shows that the more complex model, `m0`, fits significantly better than the simpler model, `m1`."
   ]
  },
  {
   "cell_type": "code",
   "execution_count": 14,
   "metadata": {
    "collapsed": false
   },
   "outputs": [
    {
     "data": {
      "text/html": [
       "<table class=\"data-frame\"><tr><th></th><th>Df</th><th>Deviance</th><th>Chisq</th><th>pval</th></tr><tr><th>1</th><td>13</td><td>1080.0806840648643</td><td>NaN</td><td>NaN</td></tr><tr><th>2</th><td>25</td><td>1030.9552950535974</td><td>49.12538901126686</td><td>1.9886741893319793e-6</td></tr></table>"
      ],
      "text/plain": [
       "2x4 DataFrame\n",
       "| Row | Df | Deviance | Chisq   | pval       |\n",
       "|-----|----|----------|---------|------------|\n",
       "| 1   | 13 | 1080.08  | NaN     | NaN        |\n",
       "| 2   | 25 | 1030.96  | 49.1254 | 1.98867e-6 |"
      ]
     },
     "execution_count": 14,
     "metadata": {},
     "output_type": "execute_result"
    }
   ],
   "source": [
    "MixedModels.lrt(m1,m0)"
   ]
  },
  {
   "cell_type": "markdown",
   "metadata": {},
   "source": [
    "Interestingly, the random effects for `item` in model `m1` are all zero; even the random intercepts.\n",
    "\n",
    "There is no purpose in doing a principal components analysis because the matrix of loadings with be the identity for a zero-correlation-parameter model."
   ]
  },
  {
   "cell_type": "code",
   "execution_count": 15,
   "metadata": {
    "collapsed": false
   },
   "outputs": [
    {
     "data": {
      "text/plain": [
       "2-element Array{Any,1}:\n",
       " PDDiagF(4x4 Diagonal{Float64}:\n",
       " 0.294532  0.0       0.0  0.0     \n",
       " 0.0       0.272191  0.0  0.0     \n",
       " 0.0       0.0       0.0  0.0     \n",
       " 0.0       0.0       0.0  0.162161)\n",
       " PDDiagF(4x4 Diagonal{Float64}:\n",
       " 0.0  0.0  0.0  0.0\n",
       " 0.0  0.0  0.0  0.0\n",
       " 0.0  0.0  0.0  0.0\n",
       " 0.0  0.0  0.0  0.0)                                                            "
      ]
     },
     "execution_count": 15,
     "metadata": {},
     "output_type": "execute_result"
    }
   ],
   "source": [
    "m1.λ"
   ]
  },
  {
   "cell_type": "markdown",
   "metadata": {},
   "source": [
    "## Iterative reduction of model complexity\n",
    "\n",
    "First we remove those variance components estimated to have a value of zero."
   ]
  },
  {
   "cell_type": "code",
   "execution_count": 16,
   "metadata": {
    "collapsed": false
   },
   "outputs": [
    {
     "data": {
      "text/plain": [
       "Linear mixed model fit by maximum likelihood\n",
       "Formula: dif ~ 1 + S + F + SF + (1 | SubjID) + ((0 + S) | SubjID) + ((0 + SF) | SubjID)\n",
       "\n",
       " logLik: -540.040342, deviance: 1080.080684\n",
       "\n",
       " Variance components:\n",
       "                Variance    Std.Dev.  Corr.\n",
       " SubjID         0.011801    0.108631\n",
       "                0.010078    0.100391   0.00\n",
       "                0.003577    0.059809   0.00  0.00\n",
       " Residual       0.136033    0.368827\n",
       " Number of obs: 1104; levels of grouping factors: 92\n",
       "\n",
       "  Fixed-effects parameters:\n",
       "               Estimate Std.Error  z value\n",
       "(Intercept)    0.039221 0.0158583  2.47321\n",
       "S            -0.0174094 0.0152566  -1.1411\n",
       "F             0.0174819 0.0111004  1.57489\n",
       "SF           -0.0322645 0.0127319 -2.53415\n"
      ]
     },
     "execution_count": 16,
     "metadata": {},
     "output_type": "execute_result"
    }
   ],
   "source": [
    "m2 = fit(lmm(dif ~ 1+S+F+SF + (1|SubjID)+(0+S|SubjID)+(0+SF|SubjID),bs10))"
   ]
  },
  {
   "cell_type": "markdown",
   "metadata": {},
   "source": [
    "Naturally, the fit for this model is equivalent to that for `m1` because it is only the variance components with zero estimates that are eliminated."
   ]
  },
  {
   "cell_type": "code",
   "execution_count": 17,
   "metadata": {
    "collapsed": false
   },
   "outputs": [
    {
     "data": {
      "text/html": [
       "<table class=\"data-frame\"><tr><th></th><th>Df</th><th>Deviance</th><th>Chisq</th><th>pval</th></tr><tr><th>1</th><td>8</td><td>1080.0806840657065</td><td>NaN</td><td>NaN</td></tr><tr><th>2</th><td>13</td><td>1080.0806840648643</td><td>8.421920938417315e-10</td><td>1.0</td></tr></table>"
      ],
      "text/plain": [
       "2x4 DataFrame\n",
       "| Row | Df | Deviance | Chisq       | pval |\n",
       "|-----|----|----------|-------------|------|\n",
       "| 1   | 8  | 1080.08  | NaN         | NaN  |\n",
       "| 2   | 13 | 1080.08  | 8.42192e-10 | 1.0  |"
      ]
     },
     "execution_count": 17,
     "metadata": {},
     "output_type": "execute_result"
    }
   ],
   "source": [
    "MixedModels.lrt(m2,m1)"
   ]
  },
  {
   "cell_type": "markdown",
   "metadata": {},
   "source": [
    "Next we check whether the variance component for the interaction, `SF`, could reasonably be zero."
   ]
  },
  {
   "cell_type": "code",
   "execution_count": 18,
   "metadata": {
    "collapsed": false
   },
   "outputs": [
    {
     "data": {
      "text/plain": [
       "Linear mixed model fit by maximum likelihood\n",
       "Formula: dif ~ 1 + S + F + SF + (1 | SubjID) + ((0 + S) | SubjID)\n",
       "\n",
       " logLik: -541.715626, deviance: 1083.431253\n",
       "\n",
       " Variance components:\n",
       "                Variance    Std.Dev.  Corr.\n",
       " SubjID         0.011443    0.106972\n",
       "                0.009721    0.098594   0.00\n",
       " Residual       0.140326    0.374601\n",
       " Number of obs: 1104; levels of grouping factors: 92\n",
       "\n",
       "  Fixed-effects parameters:\n",
       "               Estimate Std.Error  z value\n",
       "(Intercept)    0.039221 0.0158584  2.47321\n",
       "S            -0.0174094 0.0152567  -1.1411\n",
       "F             0.0174819 0.0112742  1.55062\n",
       "SF           -0.0322645 0.0112742 -2.86181\n"
      ]
     },
     "execution_count": 18,
     "metadata": {},
     "output_type": "execute_result"
    }
   ],
   "source": [
    "m3 = fit(lmm(dif ~ 1+S+F+SF + (1|SubjID)+(0+S|SubjID),bs10))"
   ]
  },
  {
   "cell_type": "code",
   "execution_count": 19,
   "metadata": {
    "collapsed": false
   },
   "outputs": [
    {
     "data": {
      "text/html": [
       "<table class=\"data-frame\"><tr><th></th><th>Df</th><th>Deviance</th><th>Chisq</th><th>pval</th></tr><tr><th>1</th><td>7</td><td>1083.431252751904</td><td>NaN</td><td>NaN</td></tr><tr><th>2</th><td>8</td><td>1080.0806840657065</td><td>3.350568686197448</td><td>0.06718180011321007</td></tr></table>"
      ],
      "text/plain": [
       "2x4 DataFrame\n",
       "| Row | Df | Deviance | Chisq   | pval      |\n",
       "|-----|----|----------|---------|-----------|\n",
       "| 1   | 7  | 1083.43  | NaN     | NaN       |\n",
       "| 2   | 8  | 1080.08  | 3.35057 | 0.0671818 |"
      ]
     },
     "execution_count": 19,
     "metadata": {},
     "output_type": "execute_result"
    }
   ],
   "source": [
    "MixedModels.lrt(m3,m2)"
   ]
  },
  {
   "cell_type": "markdown",
   "metadata": {},
   "source": [
    "Not quite significant, but could be considered. The fit is still worse than for the _maxLMM_ `m0`. We now reintroduce a correlation parameters in the vector-valued random effects for `subj`.\n",
    "\n",
    "### Extending the reduced LMM with correlation parameters"
   ]
  },
  {
   "cell_type": "code",
   "execution_count": 20,
   "metadata": {
    "collapsed": false
   },
   "outputs": [
    {
     "data": {
      "text/plain": [
       "Linear mixed model fit by maximum likelihood\n",
       "Formula: dif ~ 1 + S + F + SF + ((1 + S) | SubjID)\n",
       "\n",
       " logLik: -537.693502, deviance: 1075.387003\n",
       "\n",
       " Variance components:\n",
       "                Variance    Std.Dev.  Corr.\n",
       " SubjID         0.009877    0.099382\n",
       "                0.007818    0.088421  -1.00\n",
       " Residual       0.143794    0.379202\n",
       " Number of obs: 1104; levels of grouping factors: 92\n",
       "\n",
       "  Fixed-effects parameters:\n",
       "               Estimate Std.Error  z value\n",
       "(Intercept)    0.039221 0.0154145  2.54443\n",
       "S            -0.0174094 0.0146707 -1.18668\n",
       "F             0.0174819 0.0114126   1.5318\n",
       "SF           -0.0322645 0.0114126 -2.82708\n"
      ]
     },
     "execution_count": 20,
     "metadata": {},
     "output_type": "execute_result"
    }
   ],
   "source": [
    "m4 = fit(lmm(dif ~ 1+S+F+SF + (1+S|SubjID), bs10))"
   ]
  },
  {
   "cell_type": "markdown",
   "metadata": {},
   "source": [
    "It turns out that this fit is to a local optimum.  The fit from `lmer` in the [lme4 package](https://github.com/lme4/lme4) for [R](http://www.r-project.org) provides a parameter vector of"
   ]
  },
  {
   "cell_type": "code",
   "execution_count": 22,
   "metadata": {
    "collapsed": false
   },
   "outputs": [
    {
     "data": {
      "text/plain": [
       "Linear mixed model fit by maximum likelihood\n",
       "Formula: dif ~ 1 + S + F + SF + ((1 + S) | SubjID)\n",
       "\n",
       " logLik: -536.401757, deviance: 1072.803514\n",
       "\n",
       " Variance components:\n",
       "                Variance    Std.Dev.  Corr.\n",
       " SubjID         0.011443    0.106972\n",
       "                0.009721    0.098594  -0.70\n",
       " Residual       0.140326    0.374601\n",
       " Number of obs: 1104; levels of grouping factors: 92\n",
       "\n",
       "  Fixed-effects parameters:\n",
       "               Estimate Std.Error  z value\n",
       "(Intercept)    0.039221 0.0158583  2.47321\n",
       "S            -0.0174094 0.0152567  -1.1411\n",
       "F             0.0174819 0.0112742  1.55062\n",
       "SF           -0.0322645 0.0112742 -2.86181\n"
      ]
     },
     "execution_count": 22,
     "metadata": {},
     "output_type": "execute_result"
    }
   ],
   "source": [
    "MixedModels.objective!(m4,[0.285562798374853, -0.1834729162814, 0.188706334932744]);\n",
    "m4"
   ]
  },
  {
   "cell_type": "code",
   "execution_count": 23,
   "metadata": {
    "collapsed": false
   },
   "outputs": [
    {
     "data": {
      "text/html": [
       "<table class=\"data-frame\"><tr><th></th><th>Df</th><th>Deviance</th><th>Chisq</th><th>pval</th></tr><tr><th>1</th><td>8</td><td>1072.8035144441687</td><td>NaN</td><td>NaN</td></tr><tr><th>2</th><td>25</td><td>1030.9552950535974</td><td>41.84821939057133</td><td>0.0007053628460637855</td></tr></table>"
      ],
      "text/plain": [
       "2x4 DataFrame\n",
       "| Row | Df | Deviance | Chisq   | pval        |\n",
       "|-----|----|----------|---------|-------------|\n",
       "| 1   | 8  | 1072.8   | NaN     | NaN         |\n",
       "| 2   | 25 | 1030.96  | 41.8482 | 0.000705363 |"
      ]
     },
     "execution_count": 23,
     "metadata": {},
     "output_type": "execute_result"
    }
   ],
   "source": [
    "MixedModels.lrt(m4,m0)"
   ]
  }
 ],
 "metadata": {
  "kernelspec": {
   "display_name": "Julia 0.3.6",
   "language": "julia",
   "name": "julia 0.3"
  },
  "language_info": {
   "name": "julia",
   "version": "0.3.6"
  }
 },
 "nbformat": 4,
 "nbformat_minor": 0
}
