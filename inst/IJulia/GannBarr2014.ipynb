{
 "cells": [
  {
   "cell_type": "markdown",
   "metadata": {},
   "source": [
    "# RePsychLing Gann and Barr (2014)\n",
    "\n",
    "## Data from Gann and Barr (2014)\n",
    "\n",
    "These data are available as `gb12` in the [RePsychLing package](https://github.com/dmbates/RePsychLing) for [R](http://www.r-project.org)"
   ]
  },
  {
   "cell_type": "code",
   "execution_count": 1,
   "metadata": {
    "collapsed": false
   },
   "outputs": [
    {
     "data": {
      "text/html": [
       "<table class=\"data-frame\"><tr><th></th><th>session</th><th>phase</th><th>list</th><th>item</th><th>sottrunc2</th><th>T</th><th>P</th><th>F</th><th>TP</th><th>TF</th><th>PF</th><th>TPF</th></tr><tr><th>1</th><td>56</td><td>2</td><td>6</td><td>5</td><td>2461.0</td><td>1.0</td><td>-1.0</td><td>-1.0</td><td>-1.0</td><td>-1.0</td><td>1.0</td><td>1.0</td></tr><tr><th>2</th><td>56</td><td>2</td><td>6</td><td>4</td><td>1497.0</td><td>1.0</td><td>-1.0</td><td>-1.0</td><td>-1.0</td><td>-1.0</td><td>1.0</td><td>1.0</td></tr><tr><th>3</th><td>56</td><td>2</td><td>6</td><td>10</td><td>1648.0</td><td>-1.0</td><td>-1.0</td><td>-1.0</td><td>1.0</td><td>1.0</td><td>1.0</td><td>-1.0</td></tr><tr><th>4</th><td>56</td><td>2</td><td>6</td><td>9</td><td>3320.0</td><td>-1.0</td><td>-1.0</td><td>-1.0</td><td>1.0</td><td>1.0</td><td>1.0</td><td>-1.0</td></tr><tr><th>5</th><td>56</td><td>4</td><td>6</td><td>14</td><td>1671.0</td><td>1.0</td><td>-1.0</td><td>-1.0</td><td>-1.0</td><td>-1.0</td><td>1.0</td><td>1.0</td></tr><tr><th>6</th><td>56</td><td>4</td><td>6</td><td>15</td><td>1683.0</td><td>1.0</td><td>-1.0</td><td>-1.0</td><td>-1.0</td><td>-1.0</td><td>1.0</td><td>1.0</td></tr><tr><th>7</th><td>56</td><td>4</td><td>6</td><td>20</td><td>1451.0</td><td>-1.0</td><td>-1.0</td><td>-1.0</td><td>1.0</td><td>1.0</td><td>1.0</td><td>-1.0</td></tr><tr><th>8</th><td>56</td><td>4</td><td>6</td><td>19</td><td>1097.0</td><td>-1.0</td><td>-1.0</td><td>-1.0</td><td>1.0</td><td>1.0</td><td>1.0</td><td>-1.0</td></tr><tr><th>9</th><td>56</td><td>6</td><td>6</td><td>24</td><td>1764.0</td><td>1.0</td><td>-1.0</td><td>1.0</td><td>-1.0</td><td>1.0</td><td>-1.0</td><td>-1.0</td></tr><tr><th>10</th><td>56</td><td>6</td><td>6</td><td>25</td><td>1033.0</td><td>1.0</td><td>-1.0</td><td>1.0</td><td>-1.0</td><td>1.0</td><td>-1.0</td><td>-1.0</td></tr><tr><th>11</th><td>56</td><td>6</td><td>6</td><td>29</td><td>2194.0</td><td>-1.0</td><td>-1.0</td><td>1.0</td><td>1.0</td><td>-1.0</td><td>-1.0</td><td>1.0</td></tr><tr><th>12</th><td>56</td><td>6</td><td>6</td><td>30</td><td>1114.0</td><td>-1.0</td><td>-1.0</td><td>1.0</td><td>1.0</td><td>-1.0</td><td>-1.0</td><td>1.0</td></tr><tr><th>13</th><td>56</td><td>8</td><td>6</td><td>34</td><td>1834.0</td><td>1.0</td><td>-1.0</td><td>1.0</td><td>-1.0</td><td>1.0</td><td>-1.0</td><td>-1.0</td></tr><tr><th>14</th><td>56</td><td>8</td><td>6</td><td>35</td><td>3063.0</td><td>1.0</td><td>-1.0</td><td>1.0</td><td>-1.0</td><td>1.0</td><td>-1.0</td><td>-1.0</td></tr><tr><th>15</th><td>56</td><td>8</td><td>6</td><td>40</td><td>1706.0</td><td>-1.0</td><td>-1.0</td><td>1.0</td><td>1.0</td><td>-1.0</td><td>-1.0</td><td>1.0</td></tr><tr><th>16</th><td>56</td><td>8</td><td>6</td><td>39</td><td>1091.0</td><td>-1.0</td><td>-1.0</td><td>1.0</td><td>1.0</td><td>-1.0</td><td>-1.0</td><td>1.0</td></tr><tr><th>17</th><td>57</td><td>2</td><td>1</td><td>9</td><td>2229.0</td><td>1.0</td><td>1.0</td><td>-1.0</td><td>1.0</td><td>-1.0</td><td>-1.0</td><td>-1.0</td></tr><tr><th>18</th><td>57</td><td>2</td><td>1</td><td>10</td><td>1834.0</td><td>1.0</td><td>1.0</td><td>-1.0</td><td>1.0</td><td>-1.0</td><td>-1.0</td><td>-1.0</td></tr><tr><th>19</th><td>57</td><td>2</td><td>1</td><td>5</td><td>1335.0</td><td>-1.0</td><td>1.0</td><td>-1.0</td><td>-1.0</td><td>1.0</td><td>-1.0</td><td>1.0</td></tr><tr><th>20</th><td>57</td><td>2</td><td>1</td><td>4</td><td>1277.0</td><td>-1.0</td><td>1.0</td><td>-1.0</td><td>-1.0</td><td>1.0</td><td>-1.0</td><td>1.0</td></tr><tr><th>21</th><td>57</td><td>4</td><td>1</td><td>20</td><td>2116.0</td><td>1.0</td><td>1.0</td><td>-1.0</td><td>1.0</td><td>-1.0</td><td>-1.0</td><td>-1.0</td></tr><tr><th>22</th><td>57</td><td>4</td><td>1</td><td>19</td><td>2043.0</td><td>1.0</td><td>1.0</td><td>-1.0</td><td>1.0</td><td>-1.0</td><td>-1.0</td><td>-1.0</td></tr><tr><th>23</th><td>57</td><td>4</td><td>1</td><td>14</td><td>1753.0</td><td>-1.0</td><td>1.0</td><td>-1.0</td><td>-1.0</td><td>1.0</td><td>-1.0</td><td>1.0</td></tr><tr><th>24</th><td>57</td><td>4</td><td>1</td><td>15</td><td>1857.0</td><td>-1.0</td><td>1.0</td><td>-1.0</td><td>-1.0</td><td>1.0</td><td>-1.0</td><td>1.0</td></tr><tr><th>25</th><td>57</td><td>6</td><td>1</td><td>30</td><td>2246.0</td><td>1.0</td><td>1.0</td><td>1.0</td><td>1.0</td><td>1.0</td><td>1.0</td><td>1.0</td></tr><tr><th>26</th><td>57</td><td>6</td><td>1</td><td>29</td><td>2298.0</td><td>1.0</td><td>1.0</td><td>1.0</td><td>1.0</td><td>1.0</td><td>1.0</td><td>1.0</td></tr><tr><th>27</th><td>57</td><td>6</td><td>1</td><td>25</td><td>922.0</td><td>-1.0</td><td>1.0</td><td>1.0</td><td>-1.0</td><td>-1.0</td><td>1.0</td><td>-1.0</td></tr><tr><th>28</th><td>57</td><td>6</td><td>1</td><td>24</td><td>1190.0</td><td>-1.0</td><td>1.0</td><td>1.0</td><td>-1.0</td><td>-1.0</td><td>1.0</td><td>-1.0</td></tr><tr><th>29</th><td>57</td><td>8</td><td>1</td><td>39</td><td>1857.0</td><td>1.0</td><td>1.0</td><td>1.0</td><td>1.0</td><td>1.0</td><td>1.0</td><td>1.0</td></tr><tr><th>30</th><td>57</td><td>8</td><td>1</td><td>40</td><td>1764.0</td><td>1.0</td><td>1.0</td><td>1.0</td><td>1.0</td><td>1.0</td><td>1.0</td><td>1.0</td></tr><tr><th>&vellip;</th><td>&vellip;</td><td>&vellip;</td><td>&vellip;</td><td>&vellip;</td><td>&vellip;</td><td>&vellip;</td><td>&vellip;</td><td>&vellip;</td><td>&vellip;</td><td>&vellip;</td><td>&vellip;</td><td>&vellip;</td></tr></table>"
      ],
      "text/plain": [
       "512x12 DataFrame\n",
       "| Row | session | phase | list | item | sottrunc2 | T    | P    | F    | TP   |\n",
       "|-----|---------|-------|------|------|-----------|------|------|------|------|\n",
       "| 1   | \"56\"    | \"2\"   | \"6\"  | \"5\"  | 2461.0    | 1.0  | -1.0 | -1.0 | -1.0 |\n",
       "| 2   | \"56\"    | \"2\"   | \"6\"  | \"4\"  | 1497.0    | 1.0  | -1.0 | -1.0 | -1.0 |\n",
       "| 3   | \"56\"    | \"2\"   | \"6\"  | \"10\" | 1648.0    | -1.0 | -1.0 | -1.0 | 1.0  |\n",
       "| 4   | \"56\"    | \"2\"   | \"6\"  | \"9\"  | 3320.0    | -1.0 | -1.0 | -1.0 | 1.0  |\n",
       "| 5   | \"56\"    | \"4\"   | \"6\"  | \"14\" | 1671.0    | 1.0  | -1.0 | -1.0 | -1.0 |\n",
       "| 6   | \"56\"    | \"4\"   | \"6\"  | \"15\" | 1683.0    | 1.0  | -1.0 | -1.0 | -1.0 |\n",
       "| 7   | \"56\"    | \"4\"   | \"6\"  | \"20\" | 1451.0    | -1.0 | -1.0 | -1.0 | 1.0  |\n",
       "| 8   | \"56\"    | \"4\"   | \"6\"  | \"19\" | 1097.0    | -1.0 | -1.0 | -1.0 | 1.0  |\n",
       "| 9   | \"56\"    | \"6\"   | \"6\"  | \"24\" | 1764.0    | 1.0  | -1.0 | 1.0  | -1.0 |\n",
       "| 10  | \"56\"    | \"6\"   | \"6\"  | \"25\" | 1033.0    | 1.0  | -1.0 | 1.0  | -1.0 |\n",
       "| 11  | \"56\"    | \"6\"   | \"6\"  | \"29\" | 2194.0    | -1.0 | -1.0 | 1.0  | 1.0  |\n",
       "⋮\n",
       "| 501 | \"97\"    | \"4\"   | \"5\"  | \"20\" | 1929.0    | 1.0  | -1.0 | -1.0 | -1.0 |\n",
       "| 502 | \"97\"    | \"4\"   | \"5\"  | \"19\" | 2832.0    | 1.0  | -1.0 | -1.0 | -1.0 |\n",
       "| 503 | \"97\"    | \"4\"   | \"5\"  | \"15\" | 1721.0    | -1.0 | -1.0 | -1.0 | 1.0  |\n",
       "| 504 | \"97\"    | \"4\"   | \"5\"  | \"14\" | 1915.0    | -1.0 | -1.0 | -1.0 | 1.0  |\n",
       "| 505 | \"97\"    | \"6\"   | \"5\"  | \"29\" | 2066.0    | 1.0  | -1.0 | 1.0  | -1.0 |\n",
       "| 506 | \"97\"    | \"6\"   | \"5\"  | \"30\" | 1857.0    | 1.0  | -1.0 | 1.0  | -1.0 |\n",
       "| 507 | \"97\"    | \"6\"   | \"5\"  | \"25\" | 1509.0    | -1.0 | -1.0 | 1.0  | 1.0  |\n",
       "| 508 | \"97\"    | \"6\"   | \"5\"  | \"24\" | 1607.0    | -1.0 | -1.0 | 1.0  | 1.0  |\n",
       "| 509 | \"97\"    | \"8\"   | \"5\"  | \"39\" | 3111.0    | 1.0  | -1.0 | 1.0  | -1.0 |\n",
       "| 510 | \"97\"    | \"8\"   | \"5\"  | \"40\" | 1230.0    | 1.0  | -1.0 | 1.0  | -1.0 |\n",
       "| 511 | \"97\"    | \"8\"   | \"5\"  | \"34\" | 1703.0    | -1.0 | -1.0 | 1.0  | 1.0  |\n",
       "| 512 | \"97\"    | \"8\"   | \"5\"  | \"35\" | 1718.0    | -1.0 | -1.0 | 1.0  | 1.0  |\n",
       "\n",
       "| Row | TF   | PF   | TPF  |\n",
       "|-----|------|------|------|\n",
       "| 1   | -1.0 | 1.0  | 1.0  |\n",
       "| 2   | -1.0 | 1.0  | 1.0  |\n",
       "| 3   | 1.0  | 1.0  | -1.0 |\n",
       "| 4   | 1.0  | 1.0  | -1.0 |\n",
       "| 5   | -1.0 | 1.0  | 1.0  |\n",
       "| 6   | -1.0 | 1.0  | 1.0  |\n",
       "| 7   | 1.0  | 1.0  | -1.0 |\n",
       "| 8   | 1.0  | 1.0  | -1.0 |\n",
       "| 9   | 1.0  | -1.0 | -1.0 |\n",
       "| 10  | 1.0  | -1.0 | -1.0 |\n",
       "| 11  | -1.0 | -1.0 | 1.0  |\n",
       "⋮\n",
       "| 501 | -1.0 | 1.0  | 1.0  |\n",
       "| 502 | -1.0 | 1.0  | 1.0  |\n",
       "| 503 | 1.0  | 1.0  | -1.0 |\n",
       "| 504 | 1.0  | 1.0  | -1.0 |\n",
       "| 505 | 1.0  | -1.0 | -1.0 |\n",
       "| 506 | 1.0  | -1.0 | -1.0 |\n",
       "| 507 | -1.0 | -1.0 | 1.0  |\n",
       "| 508 | -1.0 | -1.0 | 1.0  |\n",
       "| 509 | 1.0  | -1.0 | -1.0 |\n",
       "| 510 | 1.0  | -1.0 | -1.0 |\n",
       "| 511 | -1.0 | -1.0 | 1.0  |\n",
       "| 512 | -1.0 | -1.0 | 1.0  |"
      ]
     },
     "execution_count": 1,
     "metadata": {},
     "output_type": "execute_result"
    }
   ],
   "source": [
    "using DataFrames,RCall,MixedModels\n",
    "gb12 = DataFrame(\"RePsychLing::gb12\")"
   ]
  },
  {
   "cell_type": "code",
   "execution_count": 2,
   "metadata": {
    "collapsed": false
   },
   "outputs": [
    {
     "data": {
      "text/plain": [
       "(512,12)"
      ]
     },
     "execution_count": 2,
     "metadata": {},
     "output_type": "execute_result"
    }
   ],
   "source": [
    "size(gb12)"
   ]
  },
  {
   "cell_type": "markdown",
   "metadata": {},
   "source": [
    "### Maximal linear mixed model (_maxLMM_)\n",
    "\n",
    "We assume `P`, the partner, is a between-session factor and `F`, feedback, is a between-item factor (i.e., they are not included in RE terms). The model fit in the paper is:"
   ]
  },
  {
   "cell_type": "code",
   "execution_count": 3,
   "metadata": {
    "collapsed": false
   },
   "outputs": [
    {
     "data": {
      "text/plain": [
       "Linear mixed model fit by maximum likelihood\n",
       "Formula: sottrunc2 ~ 1 + T + P + F + TP + TF + PF + TPF + ((1 + T + F + TF) | session) + ((1 + T + P + TP) | item)\n",
       "\n",
       " logLik: -3963.337715, deviance: 7926.675431\n",
       "\n",
       " Variance components:\n",
       "                Variance    Std.Dev.  Corr.\n",
       " session      103476.674271  321.677905\n",
       "              26882.960829  163.960242   0.99\n",
       "              15341.632436  123.861344   0.13  0.13\n",
       "              2776.968858   52.696953   0.12  0.12  0.12\n",
       " item         19908.343617  141.096930\n",
       "              10244.429104  101.214767   1.00\n",
       "              2543.725722   50.435362   0.28  0.28\n",
       "              1972.407409   44.411794   0.32  0.32  0.32\n",
       " Residual     241932.090259  491.865927\n",
       " Number of obs: 512; levels of grouping factors: 32, 16\n",
       "\n",
       "  Fixed-effects parameters:\n",
       "             Estimate Std.Error   z value\n",
       "(Intercept)   1787.92   70.3594   25.4112\n",
       "T             368.705   44.1915   8.34334\n",
       "P              63.986   62.1704    1.0292\n",
       "F            -98.3445   46.8639  -2.09851\n",
       "TP            131.556   37.8932   3.47177\n",
       "TF            12.1399    34.635   0.35051\n",
       "PF           -29.3292   33.3307 -0.879945\n",
       "TPF          -29.8917   26.1262  -1.14412\n"
      ]
     },
     "execution_count": 3,
     "metadata": {},
     "output_type": "execute_result"
    }
   ],
   "source": [
    "m0 = fit(lmm(sottrunc2 ~ 1+T+P+F+TP+TF+PF+TPF +\n",
    "     (1+T+F+TF|session)+(1+T+P+TP|item), gb12))"
   ]
  },
  {
   "cell_type": "code",
   "execution_count": 4,
   "metadata": {
    "collapsed": false
   },
   "outputs": [
    {
     "data": {
      "text/plain": [
       "2-element Array{Any,1}:\n",
       " PDLCholF(Cholesky{Float64} with factor:\n",
       "4x4 Triangular{Float64,Array{Float64,2},:L,false}:\n",
       " 0.653995    0.0        0.0         0.0\n",
       " 0.32893     0.0540647  0.0         0.0\n",
       " 0.0319725  -0.249781   1.35534e-6  0.0\n",
       " 0.0129557  -0.106351   7.86406e-7  0.0)\n",
       " PDLCholF(Cholesky{Float64} with factor:\n",
       "4x4 Triangular{Float64,Array{Float64,2},:L,false}:\n",
       " 0.286861   0.0        0.0          0.0\n",
       " 0.205057   0.0172017  0.0          0.0\n",
       " 0.0288284  0.0984023  0.000361463  0.0\n",
       " 0.0292098  0.0854366  0.000333003  0.0)"
      ]
     },
     "execution_count": 4,
     "metadata": {},
     "output_type": "execute_result"
    }
   ],
   "source": [
    "m0.λ"
   ]
  },
  {
   "cell_type": "code",
   "execution_count": 5,
   "metadata": {
    "collapsed": false
   },
   "outputs": [
    {
     "data": {
      "text/plain": [
       "7926.675430779498"
      ]
     },
     "execution_count": 5,
     "metadata": {},
     "output_type": "execute_result"
    }
   ],
   "source": [
    "deviance(m0)"
   ]
  },
  {
   "cell_type": "code",
   "execution_count": 6,
   "metadata": {
    "collapsed": false
   },
   "outputs": [
    {
     "data": {
      "text/plain": [
       "7926.675430779473"
      ]
     },
     "execution_count": 6,
     "metadata": {},
     "output_type": "execute_result"
    }
   ],
   "source": [
    "MixedModels.objective!(m0,\n",
    "    Float64[abs(x) < 5.e-6 ? 0. : x for x in MixedModels.θ(m0)])"
   ]
  },
  {
   "cell_type": "code",
   "execution_count": 7,
   "metadata": {
    "collapsed": false
   },
   "outputs": [
    {
     "data": {
      "text/plain": [
       "Linear mixed model fit by maximum likelihood\n",
       "Formula: sottrunc2 ~ 1 + T + P + F + TP + TF + PF + TPF + ((1 + T + F + TF) | session) + ((1 + T + P + TP) | item)\n",
       "\n",
       " logLik: -3963.337715, deviance: 7926.675431\n",
       "\n",
       " Variance components:\n",
       "                Variance    Std.Dev.  Corr.\n",
       " session      103476.674271  321.677905\n",
       "              26882.960829  163.960242   0.99\n",
       "              15341.632436  123.861344   0.13  0.13\n",
       "              2776.968858   52.696953   0.12  0.12  0.12\n",
       " item         19908.343617  141.096930\n",
       "              10244.429104  101.214767   1.00\n",
       "              2543.725722   50.435362   0.28  0.28\n",
       "              1972.407409   44.411794   0.32  0.32  0.32\n",
       " Residual     241932.090259  491.865927\n",
       " Number of obs: 512; levels of grouping factors: 32, 16\n",
       "\n",
       "  Fixed-effects parameters:\n",
       "             Estimate Std.Error   z value\n",
       "(Intercept)   1787.92   70.3594   25.4112\n",
       "T             368.705   44.1915   8.34334\n",
       "P              63.986   62.1704    1.0292\n",
       "F            -98.3445   46.8639  -2.09851\n",
       "TP            131.556   37.8932   3.47177\n",
       "TF            12.1399    34.635   0.35051\n",
       "PF           -29.3292   33.3307 -0.879945\n",
       "TPF          -29.8917   26.1262  -1.14412\n"
      ]
     },
     "execution_count": 7,
     "metadata": {},
     "output_type": "execute_result"
    }
   ],
   "source": [
    "m0"
   ]
  },
  {
   "cell_type": "code",
   "execution_count": 8,
   "metadata": {
    "collapsed": false
   },
   "outputs": [],
   "source": [
    "open(\"/tmp/gb12m0th.csv\",\"w\") do io\n",
    "    writecsv(io,MixedModels.θ(m0))\n",
    "end"
   ]
  },
  {
   "cell_type": "markdown",
   "metadata": {},
   "source": [
    "The model converges without problems, but two correlation parameters are estimated as very close to 1.\n",
    "\n",
    "### Singular value analysis for _maxLMM_"
   ]
  },
  {
   "cell_type": "code",
   "execution_count": 9,
   "metadata": {
    "collapsed": false
   },
   "outputs": [
    {
     "data": {
      "text/plain": [
       "2-element Array{Any,1}:\n",
       " [0.732972,0.276533,0.0,0.0]       \n",
       " [0.356004,0.128691,5.49455e-5,0.0]"
      ]
     },
     "execution_count": 9,
     "metadata": {},
     "output_type": "execute_result"
    }
   ],
   "source": [
    "map(svdvals,m0.λ)"
   ]
  },
  {
   "cell_type": "markdown",
   "metadata": {},
   "source": [
    "The `svdvals`results indicate two dimensions with no variability in the random effects for session and another two dimensions with essentially no variability in the random effects for item.\n",
    "\n",
    "### Zero-correlation-parameter linear mixed model (_zcpLMM_)"
   ]
  },
  {
   "cell_type": "code",
   "execution_count": 10,
   "metadata": {
    "collapsed": false
   },
   "outputs": [
    {
     "data": {
      "text/plain": [
       "Linear mixed model fit by maximum likelihood\n",
       "Formula: sottrunc2 ~ 1 + T + P + F + TP + TF + PF + TPF + (1 | session) + ((0 + T) | session) + ((0 + F) | session) + ((0 + TF) | session) + (1 | item) + ((0 + T) | item) + ((0 + P) | item) + ((0 + TP) | item)\n",
       "\n",
       " logLik: -3990.068127, deviance: 7980.136254\n",
       "\n",
       " Variance components:\n",
       "                Variance    Std.Dev.  Corr.\n",
       " session      99532.706670  315.488045\n",
       "              20289.346355  142.440677   0.00\n",
       "              11565.892981  107.544842   0.00  0.00\n",
       "                0.000000    0.000000   0.00  0.00  0.00\n",
       " item         16881.335869  129.928195\n",
       "                0.000000    0.000000   0.00\n",
       "                0.000000    0.000000   0.00  0.00\n",
       "                0.000000    0.000000   0.00  0.00  0.00\n",
       " Residual     272586.466142  522.098138\n",
       " Number of obs: 512; levels of grouping factors: 32, 16\n",
       "\n",
       "  Fixed-effects parameters:\n",
       "             Estimate Std.Error   z value\n",
       "(Intercept)   1787.92   68.5411   26.0853\n",
       "T             368.705   34.1531   10.7956\n",
       "P              63.986   60.3556   1.06015\n",
       "F            -98.3445   44.1465  -2.22768\n",
       "TP            131.556   34.1531   3.85195\n",
       "TF            12.1399   23.0737  0.526136\n",
       "PF           -29.3292    29.897 -0.981007\n",
       "TPF          -29.8917   23.0737  -1.29549\n"
      ]
     },
     "execution_count": 10,
     "metadata": {},
     "output_type": "execute_result"
    }
   ],
   "source": [
    "m1 = fit(lmm(sottrunc2 ~ 1+T+P+F+TP+TF+PF+TPF + \n",
    "(1|session)+(0+T|session)+(0+F|session)+(0+TF|session) +\n",
    "(1|item)+(0+T|item)+(0+P|item)+(0+TP|item), gb12))"
   ]
  },
  {
   "cell_type": "markdown",
   "metadata": {},
   "source": [
    "This is a case where `lmer` converges to a better fit at"
   ]
  },
  {
   "cell_type": "code",
   "execution_count": 11,
   "metadata": {
    "collapsed": false
   },
   "outputs": [
    {
     "data": {
      "text/plain": [
       "7977.369678454903"
      ]
     },
     "execution_count": 11,
     "metadata": {},
     "output_type": "execute_result"
    }
   ],
   "source": [
    "MixedModels.objective!(m1,\n",
    "   [0.615368637774424, 0.282035365967759, 0.215250102492395, 0, \n",
    "    0.254447462606184, 0.154461621829023, 0, 0])"
   ]
  },
  {
   "cell_type": "code",
   "execution_count": 12,
   "metadata": {
    "collapsed": false
   },
   "outputs": [
    {
     "data": {
      "text/plain": [
       "Linear mixed model fit by maximum likelihood\n",
       "Formula: sottrunc2 ~ 1 + T + P + F + TP + TF + PF + TPF + (1 | session) + ((0 + T) | session) + ((0 + F) | session) + ((0 + TF) | session) + (1 | item) + ((0 + T) | item) + ((0 + P) | item) + ((0 + TP) | item)\n",
       "\n",
       " logLik: -3988.684839, deviance: 7977.369678\n",
       "\n",
       " Variance components:\n",
       "                Variance    Std.Dev.  Corr.\n",
       " session      100314.215619  316.724195\n",
       "              21071.665701  145.160827   0.00\n",
       "              12273.801392  110.787190   0.00  0.00\n",
       "                0.000000    0.000000   0.00  0.00  0.00\n",
       " item         17150.936483  130.961584\n",
       "              6320.241355   79.499946   0.00\n",
       "                0.000000    0.000000   0.00  0.00\n",
       "                0.000000    0.000000   0.00  0.00  0.00\n",
       " Residual     264906.062881  514.690259\n",
       " Number of obs: 512; levels of grouping factors: 32, 16\n",
       "\n",
       "  Fixed-effects parameters:\n",
       "             Estimate Std.Error   z value\n",
       "(Intercept)   1787.92   68.7324   26.0127\n",
       "T             368.705   39.6346   9.30261\n",
       "P              63.986   60.4335   1.05878\n",
       "F            -98.3445   44.4172  -2.21411\n",
       "TP            131.556   34.2912   3.83645\n",
       "TF            12.1399   30.2061  0.401902\n",
       "PF           -29.3292   30.0158 -0.977122\n",
       "TPF          -29.8917   22.7463  -1.31413\n"
      ]
     },
     "execution_count": 12,
     "metadata": {},
     "output_type": "execute_result"
    }
   ],
   "source": [
    "m1.fit = false;\n",
    "fit(m1)"
   ]
  },
  {
   "cell_type": "code",
   "execution_count": 13,
   "metadata": {
    "collapsed": false
   },
   "outputs": [
    {
     "data": {
      "text/html": [
       "<table class=\"data-frame\"><tr><th></th><th>Df</th><th>Deviance</th><th>Chisq</th><th>pval</th></tr><tr><th>1</th><td>17</td><td>7977.369678454892</td><td>NaN</td><td>NaN</td></tr><tr><th>2</th><td>29</td><td>7926.675430779473</td><td>50.69424767541932</td><td>1.0546049552543038e-6</td></tr></table>"
      ],
      "text/plain": [
       "2x4 DataFrame\n",
       "| Row | Df | Deviance | Chisq   | pval      |\n",
       "|-----|----|----------|---------|-----------|\n",
       "| 1   | 17 | 7977.37  | NaN     | NaN       |\n",
       "| 2   | 29 | 7926.68  | 50.6942 | 1.0546e-6 |"
      ]
     },
     "execution_count": 13,
     "metadata": {},
     "output_type": "execute_result"
    }
   ],
   "source": [
    "MixedModels.lrt(m1,m0)"
   ]
  },
  {
   "cell_type": "markdown",
   "metadata": {},
   "source": [
    "The _zcpLMM_ fits significantly worse than the _maxLMM_, but it reveals several variance components with values close to zero.  \n",
    "\n",
    "### Iterative reduction of model complexity\n",
    "\n",
    "Let's refit the model without small variance components."
   ]
  },
  {
   "cell_type": "code",
   "execution_count": 14,
   "metadata": {
    "collapsed": false
   },
   "outputs": [
    {
     "data": {
      "text/plain": [
       "Linear mixed model fit by maximum likelihood\n",
       "Formula: sottrunc2 ~ 1 + T + P + F + TP + TF + PF + TPF + (1 | session) + ((0 + T) | session) + ((0 + F) | session) + (1 | item) + ((0 + T) | item)\n",
       "\n",
       " logLik: -3988.684839, deviance: 7977.369678\n",
       "\n",
       " Variance components:\n",
       "                Variance    Std.Dev.  Corr.\n",
       " session      100314.182538  316.724143\n",
       "              21071.667686  145.160834   0.00\n",
       "              12273.800284  110.787185   0.00  0.00\n",
       " item         17150.934601  130.961577\n",
       "              6320.241489   79.499946   0.00\n",
       " Residual     264906.068618  514.690265\n",
       " Number of obs: 512; levels of grouping factors: 32, 16\n",
       "\n",
       "  Fixed-effects parameters:\n",
       "             Estimate Std.Error   z value\n",
       "(Intercept)   1787.92   68.7324   26.0127\n",
       "T             368.705   39.6346   9.30261\n",
       "P              63.986   60.4335   1.05878\n",
       "F            -98.3445   44.4172  -2.21411\n",
       "TP            131.556   34.2912   3.83645\n",
       "TF            12.1399   30.2061  0.401902\n",
       "PF           -29.3292   30.0158 -0.977122\n",
       "TPF          -29.8917   22.7463  -1.31413\n"
      ]
     },
     "execution_count": 14,
     "metadata": {},
     "output_type": "execute_result"
    }
   ],
   "source": [
    "m2 = lmm(sottrunc2 ~ 1+T+P+F+TP+TF+PF+TPF + \n",
    "(1|session)+(0+T|session)+(0+F|session) + (1|item) + (0+T|item), gb12);\n",
    "MixedModels.objective!(m2,MixedModels.θ(m1)[[1,2,3,5,6]]);\n",
    "fit(m2)"
   ]
  },
  {
   "cell_type": "code",
   "execution_count": 15,
   "metadata": {
    "collapsed": false
   },
   "outputs": [
    {
     "data": {
      "text/html": [
       "<table class=\"data-frame\"><tr><th></th><th>Df</th><th>Deviance</th><th>Chisq</th><th>pval</th></tr><tr><th>1</th><td>14</td><td>7977.369678454891</td><td>NaN</td><td>NaN</td></tr><tr><th>2</th><td>29</td><td>7926.675430779473</td><td>50.69424767541841</td><td>9.268327589153276e-6</td></tr></table>"
      ],
      "text/plain": [
       "2x4 DataFrame\n",
       "| Row | Df | Deviance | Chisq   | pval       |\n",
       "|-----|----|----------|---------|------------|\n",
       "| 1   | 14 | 7977.37  | NaN     | NaN        |\n",
       "| 2   | 29 | 7926.68  | 50.6942 | 9.26833e-6 |"
      ]
     },
     "execution_count": 15,
     "metadata": {},
     "output_type": "execute_result"
    }
   ],
   "source": [
    "MixedModels.lrt(m2,m0)"
   ]
  },
  {
   "cell_type": "code",
   "execution_count": 16,
   "metadata": {
    "collapsed": false
   },
   "outputs": [
    {
     "data": {
      "text/plain": [
       "Linear mixed model fit by maximum likelihood\n",
       "Formula: sottrunc2 ~ 1 + T + P + F + TP + TF + PF + TPF + ((1 + T + F) | session) + ((1 + T) | item)\n",
       "\n",
       " logLik: -3966.676588, deviance: 7933.353176\n",
       "\n",
       " Variance components:\n",
       "                Variance    Std.Dev.  Corr.\n",
       " session      102592.553658  320.300724\n",
       "              26095.792012  161.541920   1.00\n",
       "              13178.592785  114.798052   0.10  0.10\n",
       " item         19381.724597  139.218262\n",
       "              9873.700903   99.366498   1.00\n",
       " Residual     251905.053446  501.901438\n",
       " Number of obs: 512; levels of grouping factors: 32, 16\n",
       "\n",
       "  Fixed-effects parameters:\n",
       "             Estimate Std.Error   z value\n",
       "(Intercept)   1787.92   70.0669   25.5173\n",
       "T             368.705   43.8703   8.40444\n",
       "P              63.986   60.8113    1.0522\n",
       "F            -98.3445   45.9912  -2.13833\n",
       "TP            131.556   36.1593   3.63824\n",
       "TF            12.1399   33.3033  0.364525\n",
       "PF           -29.3292   30.0638 -0.975563\n",
       "TPF          -29.8917   22.1811  -1.34762\n"
      ]
     },
     "execution_count": 16,
     "metadata": {},
     "output_type": "execute_result"
    }
   ],
   "source": [
    "m3 = fit(lmm(sottrunc2 ~ 1+T+P+F+TP+TF+PF+TPF + \n",
    "            (1+T+F|session) + (1+T|item), gb12))"
   ]
  },
  {
   "cell_type": "code",
   "execution_count": 17,
   "metadata": {
    "collapsed": false
   },
   "outputs": [
    {
     "data": {
      "text/html": [
       "<table class=\"data-frame\"><tr><th></th><th>Df</th><th>Deviance</th><th>Chisq</th><th>pval</th></tr><tr><th>1</th><td>18</td><td>7933.35317580533</td><td>NaN</td><td>NaN</td></tr><tr><th>2</th><td>29</td><td>7926.675430779473</td><td>6.677745025856893</td><td>0.824547816944365</td></tr></table>"
      ],
      "text/plain": [
       "2x4 DataFrame\n",
       "| Row | Df | Deviance | Chisq   | pval     |\n",
       "|-----|----|----------|---------|----------|\n",
       "| 1   | 18 | 7933.35  | NaN     | NaN      |\n",
       "| 2   | 29 | 7926.68  | 6.67775 | 0.824548 |"
      ]
     },
     "execution_count": 17,
     "metadata": {},
     "output_type": "execute_result"
    }
   ],
   "source": [
    "MixedModels.lrt(m3,m0)"
   ]
  },
  {
   "cell_type": "code",
   "execution_count": 18,
   "metadata": {
    "collapsed": false
   },
   "outputs": [
    {
     "data": {
      "text/plain": [
       "Linear mixed model fit by maximum likelihood\n",
       "Formula: sottrunc2 ~ 1 + T + P + F + TP + TF + PF + TPF + ((1 + T + F) | session) + (1 | item)\n",
       "\n",
       " logLik: -3974.828980, deviance: 7949.657960\n",
       "\n",
       " Variance components:\n",
       "                Variance    Std.Dev.  Corr.\n",
       " session      101064.766390  317.906852\n",
       "              25245.483512  158.888274   1.00\n",
       "              12029.517288  109.679156   0.10  0.10\n",
       " item         16690.092252  129.190140\n",
       " Residual     265113.077424  514.891326\n",
       " Number of obs: 512; levels of grouping factors: 32, 16\n",
       "\n",
       "  Fixed-effects parameters:\n",
       "             Estimate Std.Error   z value\n",
       "(Intercept)   1787.92   68.6965   26.0263\n",
       "T             368.705   36.1486   10.1997\n",
       "P              63.986   60.6306   1.05534\n",
       "F            -98.3445   44.0097  -2.23461\n",
       "TP            131.556   36.1486   3.63932\n",
       "TF            12.1399   22.7552    0.5335\n",
       "PF           -29.3292   29.8952 -0.981066\n",
       "TPF          -29.8917   22.7552  -1.31362\n"
      ]
     },
     "execution_count": 18,
     "metadata": {},
     "output_type": "execute_result"
    }
   ],
   "source": [
    "m4 = fit(lmm(sottrunc2 ~ 1+T+P+F+TP+TF+PF+TPF + \n",
    "            (1+T+F|session) + (1|item), gb12))"
   ]
  },
  {
   "cell_type": "code",
   "execution_count": 21,
   "metadata": {
    "collapsed": false
   },
   "outputs": [
    {
     "data": {
      "text/html": [
       "<table class=\"data-frame\"><tr><th></th><th>Df</th><th>Deviance</th><th>Chisq</th><th>pval</th></tr><tr><th>1</th><td>16</td><td>7949.6579602359225</td><td>NaN</td><td>NaN</td></tr><tr><th>2</th><td>18</td><td>7933.35317580533</td><td>16.304784430592917</td><td>0.0002880454679979306</td></tr></table>"
      ],
      "text/plain": [
       "2x4 DataFrame\n",
       "| Row | Df | Deviance | Chisq   | pval        |\n",
       "|-----|----|----------|---------|-------------|\n",
       "| 1   | 16 | 7949.66  | NaN     | NaN         |\n",
       "| 2   | 18 | 7933.35  | 16.3048 | 0.000288045 |"
      ]
     },
     "execution_count": 21,
     "metadata": {},
     "output_type": "execute_result"
    }
   ],
   "source": [
    "MixedModels.lrt(m4,m3)"
   ]
  },
  {
   "cell_type": "markdown",
   "metadata": {},
   "source": [
    "We seem to be iterating toward model `m3` except that this model is singular."
   ]
  },
  {
   "cell_type": "code",
   "execution_count": 22,
   "metadata": {
    "collapsed": false
   },
   "outputs": [
    {
     "data": {
      "text/plain": [
       "2-element Array{Any,1}:\n",
       " PDLCholF(Cholesky{Float64} with factor:\n",
       "3x3 Triangular{Float64,Array{Float64,2},:L,false}:\n",
       " 0.638175   0.0       0.0\n",
       " 0.32186    0.0       0.0\n",
       " 0.0230519  0.227562  0.0)\n",
       " PDLCholF(Cholesky{Float64} with factor:\n",
       "2x2 Triangular{Float64,Array{Float64,2},:L,false}:\n",
       " 0.277382  0.0\n",
       " 0.19798   0.0)                                                "
      ]
     },
     "execution_count": 22,
     "metadata": {},
     "output_type": "execute_result"
    }
   ],
   "source": [
    "m3.λ"
   ]
  },
  {
   "cell_type": "code",
   "execution_count": 23,
   "metadata": {
    "collapsed": false
   },
   "outputs": [
    {
     "data": {
      "text/plain": [
       "2-element Array{Any,1}:\n",
       " [0.715159,0.22743,0.0]\n",
       " [0.340788,0.0]        "
      ]
     },
     "execution_count": 23,
     "metadata": {},
     "output_type": "execute_result"
    }
   ],
   "source": [
    "map(svdvals,m3.λ)"
   ]
  }
 ],
 "metadata": {
  "kernelspec": {
   "display_name": "Julia 0.3.6",
   "language": "julia",
   "name": "julia 0.3"
  },
  "language_info": {
   "name": "julia",
   "version": "0.3.6"
  }
 },
 "nbformat": 4,
 "nbformat_minor": 0
}
