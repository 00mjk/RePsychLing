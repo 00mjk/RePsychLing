{
 "cells": [
  {
   "cell_type": "markdown",
   "metadata": {},
   "source": [
    "# RePsychLing Kronmüller and Barr (2007)\n",
    "\n",
    "We apply the iterative reduction of LMM complexity to truncated response times of a 2x2x2 factorial psycholinguistic experiment (Kronmüller and Barr, 2007, Exp. 2; reanalyzed with an LMM in Barr, Levy, Scheepers and Tily, 2013). The data are from 56 subjects who responded to 32 items. Specifically, subjects had to select one of several objects presented on a monitor with a cursor. The manipulations involved (1) auditory instructions that maintained or broke a precedent of reference for the objects established over prior trials, (2) with the instruction being presented by the speaker who established the precedent (i.e., an old speaker) or a new speaker, and (3) whether the task had to be performed without or with a cognitive load consisting of six random digits. All factors were varied within subjects and within items. There were main effects of Load, Speaker, and Precedent; none of the interactions were significant. Although standard errors of fixed-effect coefficents varied slightly across models, our reanalyses afforded the same statistical inference about the experimental manipulations as the original article, irrespective of LMM specification. The purpose of the analysis is to illustrate an assessment of model complexity as far as variance components and correlation parameters are concerned, neither of which were in the focus of the original publication. \n",
    "\n",
    "## Data\n",
    "\n",
    "The data are available as `kb07` in the [RePsychLing package](https://github.com/dmbates/RePsychLing) for [R](http://www.r-project.org)"
   ]
  },
  {
   "cell_type": "code",
   "execution_count": 2,
   "metadata": {
    "collapsed": false
   },
   "outputs": [
    {
     "data": {
      "text/html": [
       "<table class=\"data-frame\"><tr><th></th><th>SubjID</th><th>ItemID</th><th>Spkr</th><th>Prec</th><th>CogLoad</th><th>resp</th><th>RTPick</th><th>RTtrunc</th><th>S</th><th>P</th><th>C</th><th>SP</th><th>SC</th><th>PC</th><th>SPC</th></tr><tr><th>1</th><td>30</td><td>1</td><td>Y</td><td>N</td><td>Y</td><td>0</td><td>2267</td><td>2267.0</td><td>0.5</td><td>-0.5</td><td>0.5</td><td>-0.25</td><td>0.25</td><td>-0.25</td><td>-0.125</td></tr><tr><th>2</th><td>30</td><td>2</td><td>N</td><td>Y</td><td>N</td><td>0</td><td>3856</td><td>3856.0</td><td>-0.5</td><td>0.5</td><td>-0.5</td><td>-0.25</td><td>0.25</td><td>-0.25</td><td>0.125</td></tr><tr><th>3</th><td>30</td><td>3</td><td>N</td><td>N</td><td>N</td><td>0</td><td>1567</td><td>1567.0</td><td>-0.5</td><td>-0.5</td><td>-0.5</td><td>0.25</td><td>0.25</td><td>0.25</td><td>-0.125</td></tr><tr><th>4</th><td>30</td><td>4</td><td>Y</td><td>Y</td><td>N</td><td>0</td><td>1732</td><td>1732.0</td><td>0.5</td><td>0.5</td><td>-0.5</td><td>0.25</td><td>-0.25</td><td>-0.25</td><td>-0.125</td></tr><tr><th>5</th><td>30</td><td>5</td><td>Y</td><td>N</td><td>N</td><td>0</td><td>2660</td><td>2660.0</td><td>0.5</td><td>-0.5</td><td>-0.5</td><td>-0.25</td><td>-0.25</td><td>0.25</td><td>0.125</td></tr><tr><th>6</th><td>30</td><td>6</td><td>N</td><td>Y</td><td>Y</td><td>0</td><td>2763</td><td>2763.0</td><td>-0.5</td><td>0.5</td><td>0.5</td><td>-0.25</td><td>-0.25</td><td>0.25</td><td>-0.125</td></tr><tr><th>7</th><td>30</td><td>7</td><td>N</td><td>N</td><td>Y</td><td>0</td><td>3528</td><td>3528.0</td><td>-0.5</td><td>-0.5</td><td>0.5</td><td>0.25</td><td>-0.25</td><td>-0.25</td><td>0.125</td></tr><tr><th>8</th><td>30</td><td>8</td><td>Y</td><td>Y</td><td>Y</td><td>0</td><td>1741</td><td>1741.0</td><td>0.5</td><td>0.5</td><td>0.5</td><td>0.25</td><td>0.25</td><td>0.25</td><td>0.125</td></tr><tr><th>9</th><td>30</td><td>9</td><td>Y</td><td>N</td><td>Y</td><td>1</td><td>3692</td><td>3692.0</td><td>0.5</td><td>-0.5</td><td>0.5</td><td>-0.25</td><td>0.25</td><td>-0.25</td><td>-0.125</td></tr><tr><th>10</th><td>30</td><td>10</td><td>N</td><td>Y</td><td>N</td><td>0</td><td>1949</td><td>1949.0</td><td>-0.5</td><td>0.5</td><td>-0.5</td><td>-0.25</td><td>0.25</td><td>-0.25</td><td>0.125</td></tr><tr><th>11</th><td>30</td><td>11</td><td>N</td><td>N</td><td>N</td><td>0</td><td>2189</td><td>2189.0</td><td>-0.5</td><td>-0.5</td><td>-0.5</td><td>0.25</td><td>0.25</td><td>0.25</td><td>-0.125</td></tr><tr><th>12</th><td>30</td><td>12</td><td>Y</td><td>Y</td><td>N</td><td>0</td><td>2207</td><td>2207.0</td><td>0.5</td><td>0.5</td><td>-0.5</td><td>0.25</td><td>-0.25</td><td>-0.25</td><td>-0.125</td></tr><tr><th>13</th><td>30</td><td>13</td><td>Y</td><td>N</td><td>N</td><td>0</td><td>2078</td><td>2078.0</td><td>0.5</td><td>-0.5</td><td>-0.5</td><td>-0.25</td><td>-0.25</td><td>0.25</td><td>0.125</td></tr><tr><th>14</th><td>30</td><td>14</td><td>N</td><td>Y</td><td>Y</td><td>0</td><td>1901</td><td>1901.0</td><td>-0.5</td><td>0.5</td><td>0.5</td><td>-0.25</td><td>-0.25</td><td>0.25</td><td>-0.125</td></tr><tr><th>15</th><td>30</td><td>15</td><td>N</td><td>N</td><td>Y</td><td>0</td><td>4015</td><td>4015.0</td><td>-0.5</td><td>-0.5</td><td>0.5</td><td>0.25</td><td>-0.25</td><td>-0.25</td><td>0.125</td></tr><tr><th>16</th><td>30</td><td>16</td><td>Y</td><td>Y</td><td>Y</td><td>0</td><td>1880</td><td>1880.0</td><td>0.5</td><td>0.5</td><td>0.5</td><td>0.25</td><td>0.25</td><td>0.25</td><td>0.125</td></tr><tr><th>17</th><td>30</td><td>17</td><td>Y</td><td>N</td><td>Y</td><td>0</td><td>1444</td><td>1444.0</td><td>0.5</td><td>-0.5</td><td>0.5</td><td>-0.25</td><td>0.25</td><td>-0.25</td><td>-0.125</td></tr><tr><th>18</th><td>30</td><td>18</td><td>N</td><td>Y</td><td>N</td><td>0</td><td>1683</td><td>1683.0</td><td>-0.5</td><td>0.5</td><td>-0.5</td><td>-0.25</td><td>0.25</td><td>-0.25</td><td>0.125</td></tr><tr><th>19</th><td>30</td><td>19</td><td>N</td><td>N</td><td>N</td><td>0</td><td>2037</td><td>2037.0</td><td>-0.5</td><td>-0.5</td><td>-0.5</td><td>0.25</td><td>0.25</td><td>0.25</td><td>-0.125</td></tr><tr><th>20</th><td>30</td><td>20</td><td>Y</td><td>Y</td><td>N</td><td>0</td><td>1168</td><td>1168.0</td><td>0.5</td><td>0.5</td><td>-0.5</td><td>0.25</td><td>-0.25</td><td>-0.25</td><td>-0.125</td></tr><tr><th>21</th><td>30</td><td>21</td><td>Y</td><td>N</td><td>N</td><td>1</td><td>1930</td><td>1930.0</td><td>0.5</td><td>-0.5</td><td>-0.5</td><td>-0.25</td><td>-0.25</td><td>0.25</td><td>0.125</td></tr><tr><th>22</th><td>30</td><td>22</td><td>N</td><td>Y</td><td>Y</td><td>0</td><td>1843</td><td>1843.0</td><td>-0.5</td><td>0.5</td><td>0.5</td><td>-0.25</td><td>-0.25</td><td>0.25</td><td>-0.125</td></tr><tr><th>23</th><td>30</td><td>23</td><td>N</td><td>N</td><td>Y</td><td>1</td><td>4969</td><td>4969.0</td><td>-0.5</td><td>-0.5</td><td>0.5</td><td>0.25</td><td>-0.25</td><td>-0.25</td><td>0.125</td></tr><tr><th>24</th><td>30</td><td>24</td><td>Y</td><td>Y</td><td>Y</td><td>0</td><td>1798</td><td>1798.0</td><td>0.5</td><td>0.5</td><td>0.5</td><td>0.25</td><td>0.25</td><td>0.25</td><td>0.125</td></tr><tr><th>25</th><td>30</td><td>25</td><td>Y</td><td>N</td><td>Y</td><td>0</td><td>2436</td><td>2436.0</td><td>0.5</td><td>-0.5</td><td>0.5</td><td>-0.25</td><td>0.25</td><td>-0.25</td><td>-0.125</td></tr><tr><th>26</th><td>30</td><td>26</td><td>N</td><td>Y</td><td>N</td><td>0</td><td>2018</td><td>2018.0</td><td>-0.5</td><td>0.5</td><td>-0.5</td><td>-0.25</td><td>0.25</td><td>-0.25</td><td>0.125</td></tr><tr><th>27</th><td>30</td><td>27</td><td>N</td><td>N</td><td>N</td><td>0</td><td>2278</td><td>2278.0</td><td>-0.5</td><td>-0.5</td><td>-0.5</td><td>0.25</td><td>0.25</td><td>0.25</td><td>-0.125</td></tr><tr><th>28</th><td>30</td><td>28</td><td>Y</td><td>Y</td><td>N</td><td>0</td><td>1866</td><td>1866.0</td><td>0.5</td><td>0.5</td><td>-0.5</td><td>0.25</td><td>-0.25</td><td>-0.25</td><td>-0.125</td></tr><tr><th>29</th><td>30</td><td>29</td><td>Y</td><td>N</td><td>N</td><td>0</td><td>1743</td><td>1743.0</td><td>0.5</td><td>-0.5</td><td>-0.5</td><td>-0.25</td><td>-0.25</td><td>0.25</td><td>0.125</td></tr><tr><th>30</th><td>30</td><td>30</td><td>N</td><td>Y</td><td>Y</td><td>0</td><td>1963</td><td>1963.0</td><td>-0.5</td><td>0.5</td><td>0.5</td><td>-0.25</td><td>-0.25</td><td>0.25</td><td>-0.125</td></tr><tr><th>&vellip;</th><td>&vellip;</td><td>&vellip;</td><td>&vellip;</td><td>&vellip;</td><td>&vellip;</td><td>&vellip;</td><td>&vellip;</td><td>&vellip;</td><td>&vellip;</td><td>&vellip;</td><td>&vellip;</td><td>&vellip;</td><td>&vellip;</td><td>&vellip;</td><td>&vellip;</td></tr></table>"
      ],
      "text/plain": [
       "1790x15 DataFrame\n",
       "| Row  | SubjID | ItemID | Spkr | Prec | CogLoad | resp | RTPick | RTtrunc |\n",
       "|------|--------|--------|------|------|---------|------|--------|---------|\n",
       "| 1    | \"30\"   | \"1\"    | \"Y\"  | \"N\"  | \"Y\"     | \"0\"  | 2267   | 2267.0  |\n",
       "| 2    | \"30\"   | \"2\"    | \"N\"  | \"Y\"  | \"N\"     | \"0\"  | 3856   | 3856.0  |\n",
       "| 3    | \"30\"   | \"3\"    | \"N\"  | \"N\"  | \"N\"     | \"0\"  | 1567   | 1567.0  |\n",
       "| 4    | \"30\"   | \"4\"    | \"Y\"  | \"Y\"  | \"N\"     | \"0\"  | 1732   | 1732.0  |\n",
       "| 5    | \"30\"   | \"5\"    | \"Y\"  | \"N\"  | \"N\"     | \"0\"  | 2660   | 2660.0  |\n",
       "| 6    | \"30\"   | \"6\"    | \"N\"  | \"Y\"  | \"Y\"     | \"0\"  | 2763   | 2763.0  |\n",
       "| 7    | \"30\"   | \"7\"    | \"N\"  | \"N\"  | \"Y\"     | \"0\"  | 3528   | 3528.0  |\n",
       "| 8    | \"30\"   | \"8\"    | \"Y\"  | \"Y\"  | \"Y\"     | \"0\"  | 1741   | 1741.0  |\n",
       "| 9    | \"30\"   | \"9\"    | \"Y\"  | \"N\"  | \"Y\"     | \"1\"  | 3692   | 3692.0  |\n",
       "| 10   | \"30\"   | \"10\"   | \"N\"  | \"Y\"  | \"N\"     | \"0\"  | 1949   | 1949.0  |\n",
       "| 11   | \"30\"   | \"11\"   | \"N\"  | \"N\"  | \"N\"     | \"0\"  | 2189   | 2189.0  |\n",
       "⋮\n",
       "| 1779 | \"103\"  | \"21\"   | \"Y\"  | \"Y\"  | \"N\"     | \"0\"  | 1309   | 1309.0  |\n",
       "| 1780 | \"103\"  | \"22\"   | \"Y\"  | \"N\"  | \"N\"     | \"0\"  | 1623   | 1623.0  |\n",
       "| 1781 | \"103\"  | \"23\"   | \"N\"  | \"Y\"  | \"Y\"     | \"0\"  | 2706   | 2706.0  |\n",
       "| 1782 | \"103\"  | \"24\"   | \"N\"  | \"N\"  | \"Y\"     | \"0\"  | 4281   | 4281.0  |\n",
       "| 1783 | \"103\"  | \"25\"   | \"Y\"  | \"Y\"  | \"Y\"     | \"0\"  | 2075   | 2075.0  |\n",
       "| 1784 | \"103\"  | \"26\"   | \"Y\"  | \"N\"  | \"Y\"     | \"0\"  | 3179   | 3179.0  |\n",
       "| 1785 | \"103\"  | \"27\"   | \"N\"  | \"Y\"  | \"N\"     | \"0\"  | 1216   | 1216.0  |\n",
       "| 1786 | \"103\"  | \"28\"   | \"N\"  | \"N\"  | \"N\"     | \"0\"  | 2286   | 2286.0  |\n",
       "| 1787 | \"103\"  | \"29\"   | \"Y\"  | \"Y\"  | \"N\"     | \"0\"  | 1202   | 1202.0  |\n",
       "| 1788 | \"103\"  | \"30\"   | \"Y\"  | \"N\"  | \"N\"     | \"0\"  | 1581   | 1581.0  |\n",
       "| 1789 | \"103\"  | \"31\"   | \"N\"  | \"Y\"  | \"Y\"     | \"0\"  | 1601   | 1601.0  |\n",
       "| 1790 | \"103\"  | \"32\"   | \"N\"  | \"N\"  | \"Y\"     | \"0\"  | 1941   | 1941.0  |\n",
       "\n",
       "| Row  | S    | P    | C    | SP    | SC    | PC    | SPC    |\n",
       "|------|------|------|------|-------|-------|-------|--------|\n",
       "| 1    | 0.5  | -0.5 | 0.5  | -0.25 | 0.25  | -0.25 | -0.125 |\n",
       "| 2    | -0.5 | 0.5  | -0.5 | -0.25 | 0.25  | -0.25 | 0.125  |\n",
       "| 3    | -0.5 | -0.5 | -0.5 | 0.25  | 0.25  | 0.25  | -0.125 |\n",
       "| 4    | 0.5  | 0.5  | -0.5 | 0.25  | -0.25 | -0.25 | -0.125 |\n",
       "| 5    | 0.5  | -0.5 | -0.5 | -0.25 | -0.25 | 0.25  | 0.125  |\n",
       "| 6    | -0.5 | 0.5  | 0.5  | -0.25 | -0.25 | 0.25  | -0.125 |\n",
       "| 7    | -0.5 | -0.5 | 0.5  | 0.25  | -0.25 | -0.25 | 0.125  |\n",
       "| 8    | 0.5  | 0.5  | 0.5  | 0.25  | 0.25  | 0.25  | 0.125  |\n",
       "| 9    | 0.5  | -0.5 | 0.5  | -0.25 | 0.25  | -0.25 | -0.125 |\n",
       "| 10   | -0.5 | 0.5  | -0.5 | -0.25 | 0.25  | -0.25 | 0.125  |\n",
       "| 11   | -0.5 | -0.5 | -0.5 | 0.25  | 0.25  | 0.25  | -0.125 |\n",
       "⋮\n",
       "| 1779 | 0.5  | 0.5  | -0.5 | 0.25  | -0.25 | -0.25 | -0.125 |\n",
       "| 1780 | 0.5  | -0.5 | -0.5 | -0.25 | -0.25 | 0.25  | 0.125  |\n",
       "| 1781 | -0.5 | 0.5  | 0.5  | -0.25 | -0.25 | 0.25  | -0.125 |\n",
       "| 1782 | -0.5 | -0.5 | 0.5  | 0.25  | -0.25 | -0.25 | 0.125  |\n",
       "| 1783 | 0.5  | 0.5  | 0.5  | 0.25  | 0.25  | 0.25  | 0.125  |\n",
       "| 1784 | 0.5  | -0.5 | 0.5  | -0.25 | 0.25  | -0.25 | -0.125 |\n",
       "| 1785 | -0.5 | 0.5  | -0.5 | -0.25 | 0.25  | -0.25 | 0.125  |\n",
       "| 1786 | -0.5 | -0.5 | -0.5 | 0.25  | 0.25  | 0.25  | -0.125 |\n",
       "| 1787 | 0.5  | 0.5  | -0.5 | 0.25  | -0.25 | -0.25 | -0.125 |\n",
       "| 1788 | 0.5  | -0.5 | -0.5 | -0.25 | -0.25 | 0.25  | 0.125  |\n",
       "| 1789 | -0.5 | 0.5  | 0.5  | -0.25 | -0.25 | 0.25  | -0.125 |\n",
       "| 1790 | -0.5 | -0.5 | 0.5  | 0.25  | -0.25 | -0.25 | 0.125  |"
      ]
     },
     "execution_count": 2,
     "metadata": {},
     "output_type": "execute_result"
    }
   ],
   "source": [
    "#using DataFrames,RCall,MixedModels\n",
    "using DataFrames, MixedModels\n",
    "kb07 = MixedModels.rdata(\"kb07\")\n",
    "#kb07 = DataFrame(\"RePsychLing::kb07\")"
   ]
  },
  {
   "cell_type": "markdown",
   "metadata": {},
   "source": [
    "### Maximal linear mixed model (_maxLMM_)\n",
    "\n",
    "Barr et al. (2012, supplement) analyzed Kronmüller and Barr (2007, Exp. 2) with the _maxLMM_ comprising 16 variance component parameters (eight each for the random factors `subj` and `item`, respectively). This model takes a relatively long time to fit using `lmm` because there are so many parameters and the likelihood surface is very flat. To save time we start the optimization near the optimum."
   ]
  },
  {
   "cell_type": "code",
   "execution_count": 4,
   "metadata": {
    "collapsed": false
   },
   "outputs": [
    {
     "data": {
      "text/plain": [
       "28661.786997062147"
      ]
     },
     "execution_count": 4,
     "metadata": {},
     "output_type": "execute_result"
    }
   ],
   "source": [
    "m0 = lmm(RTtrunc ~ 1+S+P+C+SP+SC+PC+SPC +\n",
    "(1+S+P+C+SP+SC+PC+SPC|SubjID) + (1+S+P+C+SP+SC+PC+SPC|ItemID), kb07);\n",
    "\n",
    "MixedModels.objective!(m0,\n",
    "[0.4765945402846765,-0.049465200650367254,-0.05577395841877958,\n",
    "    0.029513337949340943,0.029148407625182948,0.03194864344405289,\n",
    "    -0.013919372830411688,-0.04638735990276547,0.10257407134683175,\n",
    "    -0.0171000112983217,-0.016603717040510488,-0.1109210610843561,\n",
    "    -0.02435319160421018,0.0126607985319349,0.021792305804416535,\n",
    "    0.10232424394072726,0.07801670286928138,-0.09440572778256788,\n",
    "    0.005078526659066913,-0.0134017916950307,-0.06505508009231055,\n",
    "    0.10841211573450886,0.0054641402665540385,-0.05402178547126058,\n",
    "    -0.1343169035616224,0.05153142117691683,0.,0.,0.,0.,0.,0.,0.,0.,0.,0.,\n",
    "    0.5699800437077661,-0.02339206691982298,-0.26704717626433516,\n",
    "    0.01736408969190548,0.029034597610324384,0.01783789093485394,\n",
    "    0.00848310344219369,0.004879390800290307,0.06399876167032546,\n",
    "    -0.288060036040779,0.003544393801046275,-0.030843446553322655,\n",
    "    0.004685779731614644,-0.023824295073761197,-0.05397308647226873,\n",
    "    0.042916034668339306,-0.01217658229652332,-0.01712436845429653,\n",
    "    -0.01634632724087294,0.10045183250207336,-0.008212424968067053,\n",
    "    0.08316744039186683,-0.006491337942497235,0.02291032480523459,\n",
    "    -0.0007845845820843916,-0.07761538290870172,0.021897215394384946,\n",
    "    -0.054052700984661306,-0.03210211651923669,0.05507672149152027,\n",
    "    0.,0.,0.,0.,0.,0.])"
   ]
  },
  {
   "cell_type": "code",
   "execution_count": 5,
   "metadata": {
    "collapsed": false
   },
   "outputs": [
    {
     "data": {
      "text/plain": [
       "Linear mixed model fit by maximum likelihood\n",
       "Formula: RTtrunc ~ 1 + S + P + C + SP + SC + PC + SPC + ((1 + S + P + C + SP + SC + PC + SPC) | SubjID) + ((1 + S + P + C + SP + SC + PC + SPC) | ItemID)\n",
       "\n",
       " logLik: -14293.158810, deviance: 28586.317619\n",
       "\n",
       " Variance components:\n",
       "                Variance    Std.Dev.  Corr.\n",
       " SubjID       90768.768959  301.278557\n",
       "              20729.206485  143.976409  -0.43\n",
       "              22176.026101  148.916171  -0.47 -0.47\n",
       "              30349.003408  174.209654   0.21  0.21  0.21\n",
       "              141272.662746  375.862558   0.20  0.20  0.20  0.20\n",
       "              29142.480969  170.711690   0.47  0.47  0.47  0.47  0.47\n",
       "              118762.145096  344.618840  -0.10 -0.10 -0.10 -0.10 -0.10 -0.10\n",
       "              243330.883642  493.285803  -0.48 -0.48 -0.48 -0.48 -0.48 -0.48 -0.48\n",
       " ItemID       129824.854908  360.312163\n",
       "              7421.798652   86.149862  -0.34\n",
       "              249574.325502  499.574144  -0.68 -0.68\n",
       "              11794.715009  108.603476   0.20  0.20  0.20\n",
       "              16682.604975  129.161159   0.57  0.57  0.57  0.57\n",
       "              25918.784876  160.993121   0.28  0.28  0.28  0.28  0.28\n",
       "              75204.274181  274.233977   0.08  0.08  0.08  0.08  0.08  0.08\n",
       "              308504.006447  555.431370   0.04  0.04  0.04  0.04  0.04  0.04  0.04\n",
       " Residual     399612.251117  632.148915\n",
       " Number of obs: 1790; levels of grouping factors: 56, 32\n",
       "\n",
       "  Fixed-effects parameters:\n",
       "             Estimate Std.Error  z value\n",
       "(Intercept)   2180.63   76.8191  28.3865\n",
       "S             -133.98    38.668 -3.46488\n",
       "P            -667.763   95.3327 -7.00455\n",
       "C             157.974   42.4694  3.71971\n",
       "SP             88.607    81.342  1.08931\n",
       "SC           -75.6976   70.0202 -1.08108\n",
       "PC            21.0478   89.6847 0.234687\n",
       "SPC          -191.608   168.154 -1.13948\n"
      ]
     },
     "execution_count": 5,
     "metadata": {},
     "output_type": "execute_result"
    }
   ],
   "source": [
    "fit(m0)"
   ]
  },
  {
   "cell_type": "markdown",
   "metadata": {},
   "source": [
    "This fit converges and produces what look like reasonable parameter estimates (i.e., no variance components with estimates close to zero; no correlation parameters with values close to $\\pm1$).\n",
    "\n",
    "Further investigation, however, shows that the Cholesky factors of the covariance matrices of the unconditional distribution of the within-subject and within-item random effects are singular."
   ]
  },
  {
   "cell_type": "code",
   "execution_count": 6,
   "metadata": {
    "collapsed": false
   },
   "outputs": [
    {
     "data": {
      "text/plain": [
       "2-element Array{Any,1}:\n",
       " PDLCholF(Cholesky{Float64} with factor:\n",
       "8x8 Triangular{Float64,Array{Float64,2},:L,false}:\n",
       "  0.476594    0.0         0.0         0.0        0.0  0.0  0.0  0.0\n",
       " -0.0989308   0.205149    0.0         0.0        0.0  0.0  0.0  0.0\n",
       " -0.111549   -0.0341976   0.204649    0.0        0.0  0.0  0.0  0.0\n",
       "  0.0590254  -0.0332057   0.156035    0.216824   0.0  0.0  0.0  0.0\n",
       "  0.116595   -0.443689   -0.377615    0.0218562  0.0  0.0  0.0  0.0\n",
       "  0.127792   -0.0974126   0.0203167  -0.216088   0.0  0.0  0.0  0.0\n",
       " -0.0556752   0.0506431  -0.0536093  -0.537266   0.0  0.0  0.0  0.0\n",
       " -0.3711      0.174333   -0.520442    0.412251   0.0  0.0  0.0  0.0)                                                                        \n",
       " PDLCholF(Cholesky{Float64} with factor:\n",
       "8x8 Triangular{Float64,Array{Float64,2},:L,false}:\n",
       "  0.56998     0.0          0.0         0.0          0.0        0.0  0.0  0.0\n",
       " -0.0467839   0.127999     0.0         0.0          0.0        0.0  0.0  0.0\n",
       " -0.534095   -0.576123     0.0858281   0.0          0.0        0.0  0.0  0.0\n",
       "  0.0347281   0.00708584  -0.0244292   0.16632      0.0        0.0  0.0  0.0\n",
       "  0.116139   -0.123375    -0.0684981  -0.0260024    0.0875741  0.0  0.0  0.0\n",
       "  0.0713507   0.0187424   -0.065367    0.0916642   -0.2162     0.0  0.0  0.0\n",
       "  0.0339319  -0.0952996    0.401826   -0.00296091  -0.128401   0.0  0.0  0.0\n",
       "  0.0390368  -0.431775    -0.0655084  -0.621032     0.440547   0.0  0.0  0.0)"
      ]
     },
     "execution_count": 6,
     "metadata": {},
     "output_type": "execute_result"
    }
   ],
   "source": [
    "m0.λ"
   ]
  },
  {
   "cell_type": "markdown",
   "metadata": {},
   "source": [
    "Although the random effects vectors for `subj` and for `item` are 8-dimensional there are 4 directions with no variability in the `subj` random effects and 3 directions with no variability in the `item` random effects.\n",
    "\n",
    "### Evaluation of singular value decomposition (svd) for _maxLMM_\n",
    "\n",
    "Considering that there are only 56 subjects and 32 items it is quite optimistic to expect to estimate 36 highly nonlinear covariance parameters for `subj` and another 36 for `item`.\n",
    "\n",
    "The singular value decompositions of these factors are equivalent to a _principal components analysis_ (PCA) of the covariance matrices.  The variance components are the squares of the singular values and the component loadings are the left singular vectors."
   ]
  },
  {
   "cell_type": "code",
   "execution_count": 8,
   "metadata": {
    "collapsed": false
   },
   "outputs": [
    {
     "data": {
      "text/plain": [
       "2-element Array{Any,1}:\n",
       " [0.799443,0.445139,0.360768,0.137668,0.0,0.0,0.0,0.0]     \n",
       " [1.02509,0.670478,0.224925,0.116129,0.0276915,0.0,0.0,0.0]"
      ]
     },
     "execution_count": 8,
     "metadata": {},
     "output_type": "execute_result"
    }
   ],
   "source": [
    "svds = map(svdfact,m0.λ);\n",
    "varcomp = [abs2(x[:S]) for x in svds]  # variances of the principal components"
   ]
  },
  {
   "cell_type": "code",
   "execution_count": 9,
   "metadata": {
    "collapsed": false
   },
   "outputs": [
    {
     "data": {
      "text/plain": [
       "2-element Array{Any,1}:\n",
       " [0.458654,0.255384,0.206979,0.0789827,0.0,0.0,0.0,0.0]      \n",
       " [0.496577,0.324795,0.108959,0.0562553,0.0134144,0.0,0.0,0.0]"
      ]
     },
     "execution_count": 9,
     "metadata": {},
     "output_type": "execute_result"
    }
   ],
   "source": [
    "map(x->x ./sum(x), varcomp)   # proportion of variance in each component"
   ]
  },
  {
   "cell_type": "code",
   "execution_count": 14,
   "metadata": {
    "collapsed": false
   },
   "outputs": [
    {
     "data": {
      "text/plain": [
       "2-element Array{Any,1}:\n",
       " [0.727124,0.847859,0.941034,1.0,1.0,1.0,1.0,1.0]     \n",
       " [0.794319,0.941058,0.973693,0.994675,1.0,1.0,1.0,1.0]"
      ]
     },
     "execution_count": 14,
     "metadata": {},
     "output_type": "execute_result"
    }
   ],
   "source": [
    "map(x->cumsum(x ./ sum(x)), varcomp)  # cumulative proportions of variance"
   ]
  },
  {
   "cell_type": "code",
   "execution_count": 10,
   "metadata": {
    "collapsed": false
   },
   "outputs": [
    {
     "data": {
      "text/plain": [
       "2-element Array{Any,1}:\n",
       " 8x8 Array{Float64,2}:\n",
       " -0.266013    0.355422   -0.356331   …   0.268415  -0.0917339  -0.298715 \n",
       "  0.0885513  -0.275204    0.0805787      0.338272   0.241583    0.099895 \n",
       " -0.0667582  -0.223114   -0.0858962      0.487952   0.0218891  -0.708092 \n",
       "  0.0281754  -0.0368483  -0.442195       0.564298   0.192741    0.581651 \n",
       "  0.106838    0.844628    0.181786       0.214458  -0.0603271   0.0382703\n",
       " -0.259518    0.154969    0.152458   …  -0.131781   0.91503    -0.102788 \n",
       " -0.326429   -0.0924208   0.753259       0.410698  -0.167515    0.160708 \n",
       "  0.854884    0.0290919   0.199828       0.158004   0.16314    -0.152385                 \n",
       " 8x8 Array{Float64,2}:\n",
       " -0.250933    0.5296     -0.47801    …   0.231533   -0.225663   -0.374611  \n",
       " -0.0652832  -0.0383924   0.164109       0.938779   -0.0841382   0.131516  \n",
       "  0.623426   -0.536677   -0.244879       0.183189   -0.165897   -0.182781  \n",
       " -0.0973492  -0.062411   -0.0176674      0.133308    0.781696    0.0271337 \n",
       "  0.0723258   0.174063   -0.050755      -0.0309553  -0.278534    0.844149  \n",
       " -0.161872   -0.0768737  -0.102094   …   0.0999022   0.362614    0.216961  \n",
       "  0.0144682  -0.113416   -0.817318      -0.0116045   0.139114    0.220357  \n",
       "  0.709218    0.614054    0.0573572      0.0517985   0.273868    0.00289536"
      ]
     },
     "execution_count": 10,
     "metadata": {},
     "output_type": "execute_result"
    }
   ],
   "source": [
    "[x[:U] for x in svds]   # component loadings"
   ]
  },
  {
   "cell_type": "markdown",
   "metadata": {},
   "source": [
    "### Zero-correlation-parameter linear mixed model (_zcpLMM_)\n",
    "\n",
    "As a first step of model reduction, we propose to start with a model including all 16 variance components, but no correlation parameters. Note that here we go through the motion to be consistent with the recommended strategy. The large number of components with zero or close to zero variance in _maxLMM_ already strongly suggests the need for a reduction of the number of variance components--as done in the next step. For this _zcpLMM_, we extract the vector-valued variables from the model matrix without the intercept column which is provided by the R formula. Then, we use the new double-bar syntax for `lmer()` to force correlation parameters to zero.\n",
    "\n",
    "At present the `lmm` formulas for these models are rather tedious to write "
   ]
  },
  {
   "cell_type": "code",
   "execution_count": 15,
   "metadata": {
    "collapsed": false
   },
   "outputs": [
    {
     "data": {
      "text/plain": [
       "Linear mixed model fit by maximum likelihood\n",
       "Formula: RTtrunc ~ 1 + S + P + C + SP + SC + PC + SPC + (1 | SubjID) + ((0 + S) | SubjID) + ((0 + P) | SubjID) + ((0 + C) | SubjID) + ((0 + SP) | SubjID) + ((0 + SC) | SubjID) + ((0 + PC) | SubjID) + ((0 + SPC) | SubjID) + (1 | ItemID) + ((0 + S) | ItemID) + ((0 + P) | ItemID) + ((0 + C) | ItemID) + ((0 + SP) | ItemID) + ((0 + SC) | ItemID) + ((0 + PC) | ItemID) + ((0 + SPC) | ItemID)\n",
       "\n",
       " logLik: -14337.357002, deviance: 28674.714004\n",
       "\n",
       " Variance components:\n",
       "                Variance    Std.Dev.  Corr.\n",
       " SubjID       90671.184201  301.116562\n",
       "                0.000000    0.000000   0.00\n",
       "                0.000000    0.000000   0.00  0.00\n",
       "                0.000000    0.000000   0.00  0.00  0.00\n",
       "              83459.497412  288.893575   0.00  0.00  0.00  0.00\n",
       "                0.000000    0.000000   0.00  0.00  0.00  0.00  0.00\n",
       "              62761.449539  250.522353   0.00  0.00  0.00  0.00  0.00  0.00\n",
       "                0.000000    0.000000   0.00  0.00  0.00  0.00  0.00  0.00  0.00\n",
       " ItemID       132643.202051  364.202144\n",
       "                0.000000    0.000000   0.00\n",
       "              249234.143746  499.233556   0.00  0.00\n",
       "                0.000000    0.000000   0.00  0.00  0.00\n",
       "                0.000000    0.000000   0.00  0.00  0.00  0.00\n",
       "              18054.560459  134.367260   0.00  0.00  0.00  0.00  0.00\n",
       "              54386.567929  233.209279   0.00  0.00  0.00  0.00  0.00  0.00\n",
       "              162030.445664  402.530056   0.00  0.00  0.00  0.00  0.00  0.00  0.00\n",
       " Residual     441989.701030  664.823060\n",
       " Number of obs: 1790; levels of grouping factors: 56, 32\n",
       "\n",
       "  Fixed-effects parameters:\n",
       "             Estimate Std.Error  z value\n",
       "(Intercept)    2180.6   77.5318  28.1252\n",
       "S              -134.1   31.4291 -4.26675\n",
       "P            -667.642   93.6822 -7.12667\n",
       "C              158.03   31.4292  5.02814\n",
       "SP            88.7198   73.7666  1.20271\n",
       "SC           -75.4565   67.1965 -1.12292\n",
       "PC            20.8068    82.289  0.25285\n",
       "SPC          -191.833   144.458 -1.32795\n"
      ]
     },
     "execution_count": 15,
     "metadata": {},
     "output_type": "execute_result"
    }
   ],
   "source": [
    "m1 = fit(lmm(RTtrunc ~ 1+S+P+C+SP+SC+PC+SPC +\n",
    "(1|SubjID)+(0+S|SubjID)+(0+P|SubjID)+(0+C|SubjID)+\n",
    "(0+SP|SubjID)+(0+SC|SubjID)+(0+PC|SubjID)+(0+SPC|SubjID) +\n",
    "(1|ItemID)+(0+S|ItemID)+(0+P|ItemID)+(0+C|ItemID)+\n",
    "(0+SP|ItemID)+(0+SC|ItemID)+(0+PC|ItemID)+(0+SPC|ItemID), kb07))"
   ]
  },
  {
   "cell_type": "markdown",
   "metadata": {},
   "source": [
    "The methods in `lmm` do not fit such models well.  The `lmer` function in the [lme4 package](https://github.com/lme4/lme4) for [R](http://www.r-project.org) is more successful."
   ]
  },
  {
   "cell_type": "code",
   "execution_count": 21,
   "metadata": {
    "collapsed": false
   },
   "outputs": [
    {
     "data": {
      "text/plain": [
       "28702.3421219561"
      ]
     },
     "execution_count": 21,
     "metadata": {},
     "output_type": "execute_result"
    }
   ],
   "source": [
    "MixedModels.objective!(m1,[0.461098922494114, 0.0477069109747168, 0.0700075426143427, \n",
    "    0.0948946258676561, 0.113579418439824, 0, 0.0987708829960627,\n",
    "    0, 0.553747500257642, 0, 0.380220894182068, \n",
    "    0.0805837316205983, 0, 0.0413129898395064, \n",
    "    0.0900636564806011, 0.075488529192162])"
   ]
  },
  {
   "cell_type": "code",
   "execution_count": 22,
   "metadata": {
    "collapsed": false
   },
   "outputs": [
    {
     "data": {
      "text/plain": [
       "Linear mixed model fit by maximum likelihood\n",
       "Formula: RTtrunc ~ 1 + S + P + C + SP + SC + PC + SPC + (1 | SubjID) + ((0 + S) | SubjID) + ((0 + P) | SubjID) + ((0 + C) | SubjID) + ((0 + SP) | SubjID) + ((0 + SC) | SubjID) + ((0 + PC) | SubjID) + ((0 + SPC) | SubjID) + (1 | ItemID) + ((0 + S) | ItemID) + ((0 + P) | ItemID) + ((0 + C) | ItemID) + ((0 + SP) | ItemID) + ((0 + SC) | ItemID) + ((0 + PC) | ItemID) + ((0 + SPC) | ItemID)\n",
       "\n",
       " logLik: -14351.171061, deviance: 28702.342122\n",
       "\n",
       " Variance components:\n",
       "                Variance    Std.Dev.  Corr.\n",
       " SubjID       99401.614415  315.280216\n",
       "              1064.064164   32.619996   0.00\n",
       "              2291.368245   47.868238   0.00  0.00\n",
       "              4210.061685   64.884988   0.00  0.00  0.00\n",
       "              6031.210752   77.660870   0.00  0.00  0.00  0.00\n",
       "                0.000000    0.000000   0.00  0.00  0.00  0.00  0.00\n",
       "              4561.031755   67.535411   0.00  0.00  0.00  0.00  0.00  0.00\n",
       "                0.000000    0.000000   0.00  0.00  0.00  0.00  0.00  0.00  0.00\n",
       " ItemID       143360.260256  378.629450\n",
       "                0.000000    0.000000   0.00\n",
       "              67589.180534  259.979193   0.00  0.00\n",
       "              3035.987453   55.099795   0.00  0.00  0.00\n",
       "                0.000000    0.000000   0.00  0.00  0.00  0.00\n",
       "              797.955138   28.248100   0.00  0.00  0.00  0.00  0.00\n",
       "              3792.314730   61.581773   0.00  0.00  0.00  0.00  0.00  0.00\n",
       "              2664.202004   51.615908   0.00  0.00  0.00  0.00  0.00  0.00  0.00\n",
       " Residual     467525.413795  683.758301\n",
       " Number of obs: 1790; levels of grouping factors: 56, 32\n",
       "\n",
       "  Fixed-effects parameters:\n",
       "             Estimate Std.Error  z value\n",
       "(Intercept)   2180.58   80.7233   27.013\n",
       "S            -134.205   32.6164 -4.11464\n",
       "P            -667.538   56.5501 -11.8044\n",
       "C              158.07   34.8552  4.53504\n",
       "SP            88.7984   65.4753  1.35621\n",
       "SC           -75.2476   64.8403 -1.16051\n",
       "PC            20.5978   66.1761 0.311258\n",
       "SPC          -191.991   129.617 -1.48122\n"
      ]
     },
     "execution_count": 22,
     "metadata": {},
     "output_type": "execute_result"
    }
   ],
   "source": [
    "m1"
   ]
  },
  {
   "cell_type": "markdown",
   "metadata": {},
   "source": [
    "The variance components that are estimated as 0. can be dropped without affecting the fit."
   ]
  },
  {
   "cell_type": "code",
   "execution_count": 23,
   "metadata": {
    "collapsed": false
   },
   "outputs": [
    {
     "data": {
      "text/plain": [
       "28702.3421219561"
      ]
     },
     "execution_count": 23,
     "metadata": {},
     "output_type": "execute_result"
    }
   ],
   "source": [
    "m2 = lmm(RTtrunc ~ 1+S+P+C+SP+SC+PC+SPC +\n",
    "    (1|SubjID)+(0+S|SubjID)+(0+P|SubjID)+(0+C|SubjID)+(0+SP|SubjID)+(0+PC|SubjID) +\n",
    "    (1|ItemID)+(0+P|ItemID)+(0+C|ItemID)+(0+SC|ItemID)+(0+PC|ItemID)+(0+SPC|ItemID), kb07);\n",
    "MixedModels.objective!(m2,MixedModels.θ(m1)[[1:5,7,9,11,12,14:16]])"
   ]
  },
  {
   "cell_type": "markdown",
   "metadata": {},
   "source": [
    "To look further for trivial variance components, we examine the proportion of the \n",
    "variance of the random effects for `subj` and for `item`"
   ]
  },
  {
   "cell_type": "code",
   "execution_count": 24,
   "metadata": {
    "collapsed": false
   },
   "outputs": [
    {
     "data": {
      "text/plain": [
       "2-element Array{Any,1}:\n",
       " [0.845544,0.896848,0.935645,0.971458,0.990949,1.0]\n",
       " [0.647986,0.953487,0.970629,0.984351,0.996393,1.0]"
      ]
     },
     "execution_count": 24,
     "metadata": {},
     "output_type": "execute_result"
    }
   ],
   "source": [
    "function cumulativevar{T<:Real}(svds::Vector{T})\n",
    "    var = cumsum([abs2(x) for x in svds])  # cumulative variances\n",
    "    var ./ var[end]  # cumulative proportion\n",
    "end\n",
    "cumulativevar(m::LinearMixedModel) = map(cumulativevar,map(svdvals, m.λ))\n",
    "\n",
    "cumulativevar(m2)"
   ]
  },
  {
   "cell_type": "markdown",
   "metadata": {},
   "source": [
    "For `subj` 85% of the variability in the unconditional distribution of the random effects is attributed to the random intercept.  For `item` 95% of the variability in the unconditional distribution is attributed to the random intercept and the random effect for `P`.\n",
    "\n",
    "At this point we could reduce to these random effects and reintroduce the correlation between the random effects for `item`.\n",
    "\n",
    "For some reason this fit, even starting from the converged `lmer` values, does not produce the same deviance.  In the [lme4 package](https://github.com/lme4/lme4) `m0` is not a significantly better fit than this model.  Here, it is."
   ]
  },
  {
   "cell_type": "code",
   "execution_count": 26,
   "metadata": {
    "collapsed": false
   },
   "outputs": [
    {
     "name": "stdout",
     "output_type": "stream",
     "text": [
      "f_1: 28718.01678, [0.537365,-0.258992,0.26859,0.440834]\n",
      "f_2: 29139.79897, [0.0,-1.15899,1.16859,0.97843]\n",
      "f_3: 29098.62947, [0.0,-0.989095,1.0644,0.613099]\n",
      "f_4: 28740.05071, [0.276099,-0.641346,0.760786,0.464787]\n",
      "f_5: 28691.82389, [0.453323,-0.41011,0.502799,0.44604]\n",
      "f_6: 28690.58863, [0.504715,-0.42239,0.514152,0.434824]\n",
      "f_7: 28690.90009, [0.549477,-0.561527,0.590825,0.471626]\n",
      "f_8: 28690.08509, [0.521397,-0.480917,0.543926,0.448399]\n",
      "f_9: 28704.79288, [0.572932,-0.669074,0.38577,0.308082]\n",
      "f_10: 28690.00161, [0.527301,-0.506275,0.523648,0.427727]\n",
      "f_11: 28689.95333, [0.529692,-0.509558,0.532766,0.439648]\n",
      "f_12: 28689.94928, [0.531124,-0.510492,0.531883,0.437392]\n",
      "f_13: 28689.96102, [0.540194,-0.527608,0.53144,0.436729]\n",
      "f_14: 28689.94794, [0.533141,-0.514305,0.531786,0.437247]\n",
      "f_15: 28689.94917, [0.534873,-0.51909,0.53167,0.437273]\n",
      "f_16: 28689.94793, [0.533315,-0.514786,0.531775,0.43725]\n",
      "f_17: 28689.94793, [0.533346,-0.514579,0.531774,0.437246]\n",
      "f_18: 28689.94793, [0.533292,-0.514653,0.531777,0.437249]\n",
      "f_19: 28689.94793, [0.533296,-0.514642,0.531777,0.437248]\n",
      "f_20: 28689.94793, [0.533288,-0.514604,0.531777,0.437248]\n",
      "f_21: 28689.94793, [0.533295,-0.514636,0.531777,0.437248]\n",
      "FTOL_REACHED\n"
     ]
    },
    {
     "data": {
      "text/plain": [
       "Linear mixed model fit by maximum likelihood\n",
       "Formula: RTtrunc ~ 1 + S + P + SP + SC + PC + SPC + ((1 + P) | ItemID) + (1 | SubjID)\n",
       "\n",
       " logLik: -14344.973964, deviance: 28689.947928\n",
       "\n",
       " Variance components:\n",
       "                Variance    Std.Dev.  Corr.\n",
       " ItemID       132303.226288  363.735105\n",
       "              254758.358608  504.735930  -0.70\n",
       " SubjID       88939.003248  298.226429\n",
       " Residual     465196.085600  682.052847\n",
       " Number of obs: 1790; levels of grouping factors: 32, 56\n",
       "\n",
       "  Fixed-effects parameters:\n",
       "             Estimate Std.Error  z value\n",
       "(Intercept)   2180.66   77.3471  28.1932\n",
       "S            -134.214   32.2431 -4.16256\n",
       "P            -667.528   94.8726 -7.03605\n",
       "SP            88.4704   64.4861  1.37193\n",
       "SC           -75.2293   64.4862  -1.1666\n",
       "PC            20.5795   64.4862 0.319131\n",
       "SPC          -191.335   128.972 -1.48353\n"
      ]
     },
     "execution_count": 26,
     "metadata": {},
     "output_type": "execute_result"
    }
   ],
   "source": [
    "m3 = lmm(RTtrunc ~ 1+S+P+SP+SC+PC+SPC + (1+P|ItemID) + (1|SubjID), kb07);\n",
    "MixedModels.objective!(m3,\n",
    "[0.537364783211338, -0.258992402219962, 0.268590222400181,0.440834222302868])\n",
    "fit(m3,true)"
   ]
  },
  {
   "cell_type": "code",
   "execution_count": 27,
   "metadata": {
    "collapsed": false
   },
   "outputs": [
    {
     "data": {
      "text/html": [
       "<table class=\"data-frame\"><tr><th></th><th>Df</th><th>Deviance</th><th>Chisq</th><th>pval</th></tr><tr><th>1</th><td>12</td><td>28689.94792849258</td><td>NaN</td><td>NaN</td></tr><tr><th>2</th><td>81</td><td>28586.317619299847</td><td>103.63030919273297</td><td>0.004432409383131108</td></tr></table>"
      ],
      "text/plain": [
       "2x4 DataFrame\n",
       "| Row | Df | Deviance | Chisq  | pval       |\n",
       "|-----|----|----------|--------|------------|\n",
       "| 1   | 12 | 28689.9  | NaN    | NaN        |\n",
       "| 2   | 81 | 28586.3  | 103.63 | 0.00443241 |"
      ]
     },
     "execution_count": 27,
     "metadata": {},
     "output_type": "execute_result"
    }
   ],
   "source": [
    "MixedModels.lrt(m3,m0)"
   ]
  },
  {
   "cell_type": "code",
   "execution_count": 29,
   "metadata": {
    "collapsed": false
   },
   "outputs": [
    {
     "data": {
      "text/plain": [
       "2-element Array{Any,1}:\n",
       " PDLCholF(Cholesky{Float64} with factor:\n",
       "2x2 Triangular{Float64,Array{Float64,2},:L,false}:\n",
       "  0.533295  0.0     \n",
       " -0.514636  0.531777)\n",
       " PDScalF(0.4372482733047269,1)                                                                                                        "
      ]
     },
     "execution_count": 29,
     "metadata": {},
     "output_type": "execute_result"
    }
   ],
   "source": [
    "m3.λ"
   ]
  }
 ],
 "metadata": {
  "kernelspec": {
   "display_name": "Julia 0.3.6",
   "language": "julia",
   "name": "julia 0.3"
  },
  "language_info": {
   "name": "julia",
   "version": "0.3.6"
  }
 },
 "nbformat": 4,
 "nbformat_minor": 0
}
